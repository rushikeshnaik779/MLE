{
 "cells": [
  {
   "cell_type": "code",
   "execution_count": null,
   "metadata": {},
   "outputs": [],
   "source": [
    "https://storage.googleapis.com/kagglesdsdata/datasets%2F32132%2F205932%2Fmicrochip_tests.txt?GoogleAccessId=gcp-kaggle-com@kaggle-161607.iam.gserviceaccount.com&Expires=1592838546&Signature=JDLyP5aeI7EosjtohkXQNOQwoGG%2BFIjcZ8eFu0TA4gerLkHHxOVhuJAcA0w5JVOfgo3j0Es1cDNb1dtmLWSUeTukhc3O0w0PHtrUTyxkOZ%2FrmV3gfcqkqw5%2FACUSF6Xln2u%2B20eaaK2AVi6AHIx32p0pYrSTDMft9GF2ZV4zNnrMiBxtVj14Gp7P%2BLROopm0PoC6Ae79jcRgX4b7ZxFFz9Vwgg3snLEA9HR%2FUqus472BJTeVArRWg1MT9LxwTrh%2B1oMHefIdIsNOsDUZPspLZQZ%2F9AOzJUqimz4LqaE85%2FxrxG6qKbcPZA4vYBWjaAzDKimbk2Up5x3UHcSuNkmCow%3D%3D"
   ]
  }
 ],
 "metadata": {
  "kernelspec": {
   "display_name": "Python 3",
   "language": "python",
   "name": "python3"
  },
  "language_info": {
   "codemirror_mode": {
    "name": "ipython",
    "version": 3
   },
   "file_extension": ".py",
   "mimetype": "text/x-python",
   "name": "python",
   "nbconvert_exporter": "python",
   "pygments_lexer": "ipython3",
   "version": "3.7.3"
  }
 },
 "nbformat": 4,
 "nbformat_minor": 2
}
