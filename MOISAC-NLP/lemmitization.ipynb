{
 "cells": [
  {
   "cell_type": "code",
   "execution_count": 1,
   "metadata": {
    "ExecuteTime": {
     "end_time": "2020-09-28T02:54:27.645821Z",
     "start_time": "2020-09-28T02:54:27.641928Z"
    }
   },
   "outputs": [],
   "source": [
    "from nltk.stem import WordNetLemmatizer\n",
    "from nltk.tokenize import word_tokenize"
   ]
  },
  {
   "cell_type": "code",
   "execution_count": 8,
   "metadata": {
    "ExecuteTime": {
     "end_time": "2020-09-28T03:00:17.790682Z",
     "start_time": "2020-09-28T03:00:17.784202Z"
    }
   },
   "outputs": [
    {
     "name": "stdout",
     "output_type": "stream",
     "text": [
      "He showed extraordinary energy, resource and military talent in stemming the advance of the royalists, who now followed up their victories by advancing into the association; he defeated them at Gainsborough on the 28th of July, and managed a masterly retreat before overwhelming numbers to Lincoln, while the victory on the 11th of October at Winceby finally secured the association, and maintained the wedge which prevented the junction of the royalists in the north with the king in the south.\n"
     ]
    }
   ],
   "source": [
    "text = 'He showed extraordinary energy, resource and military talent in stemming the advance of the royalists, who now followed up their victories by advancing into the association; he defeated them at Gainsborough on the 28th of July, and managed a masterly retreat before overwhelming numbers to Lincoln, while the victory on the 11th of October at Winceby finally secured the association, and maintained the wedge which prevented the junction of the royalists in the north with the king in the south.'\n",
    "print(text)"
   ]
  },
  {
   "cell_type": "code",
   "execution_count": 9,
   "metadata": {
    "ExecuteTime": {
     "end_time": "2020-09-28T03:00:18.358925Z",
     "start_time": "2020-09-28T03:00:18.352209Z"
    }
   },
   "outputs": [],
   "source": [
    "tokens = word_tokenize(text)\n",
    "word_lemmetizer = WordNetLemmatizer()"
   ]
  },
  {
   "cell_type": "code",
   "execution_count": 10,
   "metadata": {
    "ExecuteTime": {
     "end_time": "2020-09-28T03:00:18.843362Z",
     "start_time": "2020-09-28T03:00:18.802459Z"
    }
   },
   "outputs": [
    {
     "name": "stderr",
     "output_type": "stream",
     "text": [
      "[nltk_data] Downloading package wordnet to /Users/rushi/nltk_data...\n",
      "[nltk_data]   Package wordnet is already up-to-date!\n"
     ]
    }
   ],
   "source": [
    "import nltk \n",
    "nltk.download('wordnet')\n",
    "lemmetized = [word_lemmetizer.lemmatize(token) for token in tokens]"
   ]
  },
  {
   "cell_type": "code",
   "execution_count": 11,
   "metadata": {
    "ExecuteTime": {
     "end_time": "2020-09-28T03:00:19.193840Z",
     "start_time": "2020-09-28T03:00:19.184684Z"
    }
   },
   "outputs": [
    {
     "name": "stdout",
     "output_type": "stream",
     "text": [
      "['He', 'showed', 'extraordinary', 'energy', ',', 'resource', 'and', 'military', 'talent', 'in', 'stemming', 'the', 'advance', 'of', 'the', 'royalist', ',', 'who', 'now', 'followed', 'up', 'their', 'victory', 'by', 'advancing', 'into', 'the', 'association', ';', 'he', 'defeated', 'them', 'at', 'Gainsborough', 'on', 'the', '28th', 'of', 'July', ',', 'and', 'managed', 'a', 'masterly', 'retreat', 'before', 'overwhelming', 'number', 'to', 'Lincoln', ',', 'while', 'the', 'victory', 'on', 'the', '11th', 'of', 'October', 'at', 'Winceby', 'finally', 'secured', 'the', 'association', ',', 'and', 'maintained', 'the', 'wedge', 'which', 'prevented', 'the', 'junction', 'of', 'the', 'royalist', 'in', 'the', 'north', 'with', 'the', 'king', 'in', 'the', 'south', '.']\n"
     ]
    }
   ],
   "source": [
    "print(lemmetized)\n"
   ]
  },
  {
   "cell_type": "code",
   "execution_count": 12,
   "metadata": {
    "ExecuteTime": {
     "end_time": "2020-09-28T03:00:19.808623Z",
     "start_time": "2020-09-28T03:00:19.797377Z"
    }
   },
   "outputs": [
    {
     "name": "stdout",
     "output_type": "stream",
     "text": [
      "['He', 'show', 'extraordinari', 'energi', ',', 'resourc', 'and', 'militari', 'talent', 'in', 'stem', 'the', 'advanc', 'of', 'the', 'royalist', ',', 'who', 'now', 'follow', 'up', 'their', 'victori', 'by', 'advanc', 'into', 'the', 'associ', ';', 'he', 'defeat', 'them', 'at', 'gainsborough', 'on', 'the', '28th', 'of', 'juli', ',', 'and', 'manag', 'a', 'masterli', 'retreat', 'befor', 'overwhelm', 'number', 'to', 'lincoln', ',', 'while', 'the', 'victori', 'on', 'the', '11th', 'of', 'octob', 'at', 'wincebi', 'final', 'secur', 'the', 'associ', ',', 'and', 'maintain', 'the', 'wedg', 'which', 'prevent', 'the', 'junction', 'of', 'the', 'royalist', 'in', 'the', 'north', 'with', 'the', 'king', 'in', 'the', 'south', '.']\n"
     ]
    }
   ],
   "source": [
    "from nltk.stem.porter import PorterStemmer\n",
    "stemmer = PorterStemmer()\n",
    "stemmed = [stemmer.stem(token) for token in tokens]\n",
    "print(stemmed)"
   ]
  },
  {
   "cell_type": "code",
   "execution_count": 13,
   "metadata": {
    "ExecuteTime": {
     "end_time": "2020-09-28T03:01:30.031554Z",
     "start_time": "2020-09-28T03:01:29.991108Z"
    }
   },
   "outputs": [
    {
     "data": {
      "text/html": [
       "<div>\n",
       "<style scoped>\n",
       "    .dataframe tbody tr th:only-of-type {\n",
       "        vertical-align: middle;\n",
       "    }\n",
       "\n",
       "    .dataframe tbody tr th {\n",
       "        vertical-align: top;\n",
       "    }\n",
       "\n",
       "    .dataframe thead th {\n",
       "        text-align: right;\n",
       "    }\n",
       "</style>\n",
       "<table border=\"1\" class=\"dataframe\">\n",
       "  <thead>\n",
       "    <tr style=\"text-align: right;\">\n",
       "      <th></th>\n",
       "      <th>token</th>\n",
       "      <th>stemmed</th>\n",
       "      <th>lemmitized</th>\n",
       "    </tr>\n",
       "  </thead>\n",
       "  <tbody>\n",
       "    <tr>\n",
       "      <th>0</th>\n",
       "      <td>He</td>\n",
       "      <td>He</td>\n",
       "      <td>He</td>\n",
       "    </tr>\n",
       "    <tr>\n",
       "      <th>1</th>\n",
       "      <td>showed</td>\n",
       "      <td>show</td>\n",
       "      <td>showed</td>\n",
       "    </tr>\n",
       "    <tr>\n",
       "      <th>2</th>\n",
       "      <td>extraordinary</td>\n",
       "      <td>extraordinari</td>\n",
       "      <td>extraordinary</td>\n",
       "    </tr>\n",
       "    <tr>\n",
       "      <th>3</th>\n",
       "      <td>energy</td>\n",
       "      <td>energi</td>\n",
       "      <td>energy</td>\n",
       "    </tr>\n",
       "    <tr>\n",
       "      <th>4</th>\n",
       "      <td>,</td>\n",
       "      <td>,</td>\n",
       "      <td>,</td>\n",
       "    </tr>\n",
       "    <tr>\n",
       "      <th>...</th>\n",
       "      <td>...</td>\n",
       "      <td>...</td>\n",
       "      <td>...</td>\n",
       "    </tr>\n",
       "    <tr>\n",
       "      <th>82</th>\n",
       "      <td>king</td>\n",
       "      <td>king</td>\n",
       "      <td>king</td>\n",
       "    </tr>\n",
       "    <tr>\n",
       "      <th>83</th>\n",
       "      <td>in</td>\n",
       "      <td>in</td>\n",
       "      <td>in</td>\n",
       "    </tr>\n",
       "    <tr>\n",
       "      <th>84</th>\n",
       "      <td>the</td>\n",
       "      <td>the</td>\n",
       "      <td>the</td>\n",
       "    </tr>\n",
       "    <tr>\n",
       "      <th>85</th>\n",
       "      <td>south</td>\n",
       "      <td>south</td>\n",
       "      <td>south</td>\n",
       "    </tr>\n",
       "    <tr>\n",
       "      <th>86</th>\n",
       "      <td>.</td>\n",
       "      <td>.</td>\n",
       "      <td>.</td>\n",
       "    </tr>\n",
       "  </tbody>\n",
       "</table>\n",
       "<p>87 rows × 3 columns</p>\n",
       "</div>"
      ],
      "text/plain": [
       "            token        stemmed     lemmitized\n",
       "0              He             He             He\n",
       "1          showed           show         showed\n",
       "2   extraordinary  extraordinari  extraordinary\n",
       "3          energy         energi         energy\n",
       "4               ,              ,              ,\n",
       "..            ...            ...            ...\n",
       "82           king           king           king\n",
       "83             in             in             in\n",
       "84            the            the            the\n",
       "85          south          south          south\n",
       "86              .              .              .\n",
       "\n",
       "[87 rows x 3 columns]"
      ]
     },
     "execution_count": 13,
     "metadata": {},
     "output_type": "execute_result"
    }
   ],
   "source": [
    "import pandas as pd \n",
    "df = pd.DataFrame(data={'token': tokens, 'stemmed': stemmed, 'lemmitized': lemmetized})\n",
    "df"
   ]
  },
  {
   "cell_type": "code",
   "execution_count": 14,
   "metadata": {
    "ExecuteTime": {
     "end_time": "2020-09-28T03:02:36.809476Z",
     "start_time": "2020-09-28T03:02:36.763364Z"
    }
   },
   "outputs": [
    {
     "data": {
      "text/html": [
       "<div>\n",
       "<style scoped>\n",
       "    .dataframe tbody tr th:only-of-type {\n",
       "        vertical-align: middle;\n",
       "    }\n",
       "\n",
       "    .dataframe tbody tr th {\n",
       "        vertical-align: top;\n",
       "    }\n",
       "\n",
       "    .dataframe thead th {\n",
       "        text-align: right;\n",
       "    }\n",
       "</style>\n",
       "<table border=\"1\" class=\"dataframe\">\n",
       "  <thead>\n",
       "    <tr style=\"text-align: right;\">\n",
       "      <th></th>\n",
       "      <th>token</th>\n",
       "      <th>stemmed</th>\n",
       "      <th>lemmitized</th>\n",
       "    </tr>\n",
       "  </thead>\n",
       "  <tbody>\n",
       "    <tr>\n",
       "      <th>1</th>\n",
       "      <td>showed</td>\n",
       "      <td>show</td>\n",
       "      <td>showed</td>\n",
       "    </tr>\n",
       "    <tr>\n",
       "      <th>2</th>\n",
       "      <td>extraordinary</td>\n",
       "      <td>extraordinari</td>\n",
       "      <td>extraordinary</td>\n",
       "    </tr>\n",
       "    <tr>\n",
       "      <th>3</th>\n",
       "      <td>energy</td>\n",
       "      <td>energi</td>\n",
       "      <td>energy</td>\n",
       "    </tr>\n",
       "    <tr>\n",
       "      <th>5</th>\n",
       "      <td>resource</td>\n",
       "      <td>resourc</td>\n",
       "      <td>resource</td>\n",
       "    </tr>\n",
       "    <tr>\n",
       "      <th>7</th>\n",
       "      <td>military</td>\n",
       "      <td>militari</td>\n",
       "      <td>military</td>\n",
       "    </tr>\n",
       "    <tr>\n",
       "      <th>10</th>\n",
       "      <td>stemming</td>\n",
       "      <td>stem</td>\n",
       "      <td>stemming</td>\n",
       "    </tr>\n",
       "    <tr>\n",
       "      <th>12</th>\n",
       "      <td>advance</td>\n",
       "      <td>advanc</td>\n",
       "      <td>advance</td>\n",
       "    </tr>\n",
       "    <tr>\n",
       "      <th>15</th>\n",
       "      <td>royalists</td>\n",
       "      <td>royalist</td>\n",
       "      <td>royalist</td>\n",
       "    </tr>\n",
       "    <tr>\n",
       "      <th>19</th>\n",
       "      <td>followed</td>\n",
       "      <td>follow</td>\n",
       "      <td>followed</td>\n",
       "    </tr>\n",
       "    <tr>\n",
       "      <th>22</th>\n",
       "      <td>victories</td>\n",
       "      <td>victori</td>\n",
       "      <td>victory</td>\n",
       "    </tr>\n",
       "    <tr>\n",
       "      <th>24</th>\n",
       "      <td>advancing</td>\n",
       "      <td>advanc</td>\n",
       "      <td>advancing</td>\n",
       "    </tr>\n",
       "    <tr>\n",
       "      <th>27</th>\n",
       "      <td>association</td>\n",
       "      <td>associ</td>\n",
       "      <td>association</td>\n",
       "    </tr>\n",
       "    <tr>\n",
       "      <th>30</th>\n",
       "      <td>defeated</td>\n",
       "      <td>defeat</td>\n",
       "      <td>defeated</td>\n",
       "    </tr>\n",
       "    <tr>\n",
       "      <th>33</th>\n",
       "      <td>Gainsborough</td>\n",
       "      <td>gainsborough</td>\n",
       "      <td>Gainsborough</td>\n",
       "    </tr>\n",
       "    <tr>\n",
       "      <th>38</th>\n",
       "      <td>July</td>\n",
       "      <td>juli</td>\n",
       "      <td>July</td>\n",
       "    </tr>\n",
       "    <tr>\n",
       "      <th>41</th>\n",
       "      <td>managed</td>\n",
       "      <td>manag</td>\n",
       "      <td>managed</td>\n",
       "    </tr>\n",
       "    <tr>\n",
       "      <th>43</th>\n",
       "      <td>masterly</td>\n",
       "      <td>masterli</td>\n",
       "      <td>masterly</td>\n",
       "    </tr>\n",
       "    <tr>\n",
       "      <th>45</th>\n",
       "      <td>before</td>\n",
       "      <td>befor</td>\n",
       "      <td>before</td>\n",
       "    </tr>\n",
       "    <tr>\n",
       "      <th>46</th>\n",
       "      <td>overwhelming</td>\n",
       "      <td>overwhelm</td>\n",
       "      <td>overwhelming</td>\n",
       "    </tr>\n",
       "    <tr>\n",
       "      <th>47</th>\n",
       "      <td>numbers</td>\n",
       "      <td>number</td>\n",
       "      <td>number</td>\n",
       "    </tr>\n",
       "    <tr>\n",
       "      <th>49</th>\n",
       "      <td>Lincoln</td>\n",
       "      <td>lincoln</td>\n",
       "      <td>Lincoln</td>\n",
       "    </tr>\n",
       "    <tr>\n",
       "      <th>53</th>\n",
       "      <td>victory</td>\n",
       "      <td>victori</td>\n",
       "      <td>victory</td>\n",
       "    </tr>\n",
       "    <tr>\n",
       "      <th>58</th>\n",
       "      <td>October</td>\n",
       "      <td>octob</td>\n",
       "      <td>October</td>\n",
       "    </tr>\n",
       "    <tr>\n",
       "      <th>60</th>\n",
       "      <td>Winceby</td>\n",
       "      <td>wincebi</td>\n",
       "      <td>Winceby</td>\n",
       "    </tr>\n",
       "    <tr>\n",
       "      <th>61</th>\n",
       "      <td>finally</td>\n",
       "      <td>final</td>\n",
       "      <td>finally</td>\n",
       "    </tr>\n",
       "    <tr>\n",
       "      <th>62</th>\n",
       "      <td>secured</td>\n",
       "      <td>secur</td>\n",
       "      <td>secured</td>\n",
       "    </tr>\n",
       "    <tr>\n",
       "      <th>64</th>\n",
       "      <td>association</td>\n",
       "      <td>associ</td>\n",
       "      <td>association</td>\n",
       "    </tr>\n",
       "    <tr>\n",
       "      <th>67</th>\n",
       "      <td>maintained</td>\n",
       "      <td>maintain</td>\n",
       "      <td>maintained</td>\n",
       "    </tr>\n",
       "    <tr>\n",
       "      <th>69</th>\n",
       "      <td>wedge</td>\n",
       "      <td>wedg</td>\n",
       "      <td>wedge</td>\n",
       "    </tr>\n",
       "    <tr>\n",
       "      <th>71</th>\n",
       "      <td>prevented</td>\n",
       "      <td>prevent</td>\n",
       "      <td>prevented</td>\n",
       "    </tr>\n",
       "    <tr>\n",
       "      <th>76</th>\n",
       "      <td>royalists</td>\n",
       "      <td>royalist</td>\n",
       "      <td>royalist</td>\n",
       "    </tr>\n",
       "  </tbody>\n",
       "</table>\n",
       "</div>"
      ],
      "text/plain": [
       "            token        stemmed     lemmitized\n",
       "1          showed           show         showed\n",
       "2   extraordinary  extraordinari  extraordinary\n",
       "3          energy         energi         energy\n",
       "5        resource        resourc       resource\n",
       "7        military       militari       military\n",
       "10       stemming           stem       stemming\n",
       "12        advance         advanc        advance\n",
       "15      royalists       royalist       royalist\n",
       "19       followed         follow       followed\n",
       "22      victories        victori        victory\n",
       "24      advancing         advanc      advancing\n",
       "27    association         associ    association\n",
       "30       defeated         defeat       defeated\n",
       "33   Gainsborough   gainsborough   Gainsborough\n",
       "38           July           juli           July\n",
       "41        managed          manag        managed\n",
       "43       masterly       masterli       masterly\n",
       "45         before          befor         before\n",
       "46   overwhelming      overwhelm   overwhelming\n",
       "47        numbers         number         number\n",
       "49        Lincoln        lincoln        Lincoln\n",
       "53        victory        victori        victory\n",
       "58        October          octob        October\n",
       "60        Winceby        wincebi        Winceby\n",
       "61        finally          final        finally\n",
       "62        secured          secur        secured\n",
       "64    association         associ    association\n",
       "67     maintained       maintain     maintained\n",
       "69          wedge           wedg          wedge\n",
       "71      prevented        prevent      prevented\n",
       "76      royalists       royalist       royalist"
      ]
     },
     "execution_count": 14,
     "metadata": {},
     "output_type": "execute_result"
    }
   ],
   "source": [
    "df[(df.token != df.stemmed) | (df.token != df.lemmitized)]"
   ]
  },
  {
   "cell_type": "code",
   "execution_count": null,
   "metadata": {},
   "outputs": [],
   "source": []
  }
 ],
 "metadata": {
  "kernelspec": {
   "display_name": "Python 3",
   "language": "python",
   "name": "python3"
  },
  "language_info": {
   "codemirror_mode": {
    "name": "ipython",
    "version": 3
   },
   "file_extension": ".py",
   "mimetype": "text/x-python",
   "name": "python",
   "nbconvert_exporter": "python",
   "pygments_lexer": "ipython3",
   "version": "3.7.7"
  }
 },
 "nbformat": 4,
 "nbformat_minor": 2
}
