{
 "cells": [
  {
   "cell_type": "code",
   "execution_count": 33,
   "metadata": {
    "ExecuteTime": {
     "end_time": "2020-10-01T03:05:31.547214Z",
     "start_time": "2020-10-01T03:05:31.534440Z"
    }
   },
   "outputs": [],
   "source": [
    "def get_soundex(token):\n",
    "    \"\"\"Get the soundex code for the string \"\"\"\n",
    "    token = token.upper()\n",
    "    \n",
    "    soundex = \"\"\n",
    "    \n",
    "    soundex += token[0]\n",
    "    \n",
    "    dictionary = {'BFPV': \"1\", \"CGJKQSXZ\":\"2\", \"DT\":\"3\", \"L\":\"4\", \"MN\":\"5\", \"R\":\"6\", \"HWY\":\".\", \"AEIOU\":\".\"}\n",
    "    \n",
    "    for char in token[1:]:\n",
    "        for key in dictionary.keys():\n",
    "            if char in key:\n",
    "                code = dictionary[key]\n",
    "                if code != soundex[-1]:\n",
    "                    soundex += code\n",
    "                    \n",
    "    soundex = soundex.replace(\".\", \"\")\n",
    "    \n",
    "    \n",
    "    soundex = soundex[: 4].ljust(4,\"0\")\n",
    "    \n",
    "    return soundex"
   ]
  },
  {
   "cell_type": "code",
   "execution_count": 34,
   "metadata": {
    "ExecuteTime": {
     "end_time": "2020-10-01T03:05:31.937154Z",
     "start_time": "2020-10-01T03:05:31.928542Z"
    }
   },
   "outputs": [
    {
     "name": "stdout",
     "output_type": "stream",
     "text": [
      "B510\n",
      "B510\n"
     ]
    }
   ],
   "source": [
    "print(get_soundex(\"Bombay\"))\n",
    "print(get_soundex(\"Bombai\"))"
   ]
  },
  {
   "cell_type": "code",
   "execution_count": 35,
   "metadata": {
    "ExecuteTime": {
     "end_time": "2020-10-01T03:05:32.364906Z",
     "start_time": "2020-10-01T03:05:32.352048Z"
    }
   },
   "outputs": [
    {
     "name": "stdout",
     "output_type": "stream",
     "text": [
      "K513\n",
      "K513\n"
     ]
    }
   ],
   "source": [
    "print(get_soundex(\"Kenvad\"))\n",
    "print(get_soundex(\"keenvadd\"))"
   ]
  },
  {
   "cell_type": "code",
   "execution_count": 36,
   "metadata": {
    "ExecuteTime": {
     "end_time": "2020-10-01T03:05:32.679591Z",
     "start_time": "2020-10-01T03:05:32.669177Z"
    }
   },
   "outputs": [
    {
     "name": "stdout",
     "output_type": "stream",
     "text": [
      "R200\n",
      "R200\n",
      "R222\n",
      "R222\n"
     ]
    }
   ],
   "source": [
    "print(get_soundex(\"Rooshi\"))\n",
    "print(get_soundex(\"rushi\"))\n",
    "print(get_soundex(\"rushikesh\"))\n",
    "print(get_soundex(\"rushikesasdfhaksfgdhosagfdjksfgewtrewyigrtweoutewyg\"))"
   ]
  },
  {
   "cell_type": "code",
   "execution_count": null,
   "metadata": {},
   "outputs": [],
   "source": []
  }
 ],
 "metadata": {
  "kernelspec": {
   "display_name": "Python 3",
   "language": "python",
   "name": "python3"
  },
  "language_info": {
   "codemirror_mode": {
    "name": "ipython",
    "version": 3
   },
   "file_extension": ".py",
   "mimetype": "text/x-python",
   "name": "python",
   "nbconvert_exporter": "python",
   "pygments_lexer": "ipython3",
   "version": "3.7.7"
  }
 },
 "nbformat": 4,
 "nbformat_minor": 2
}
