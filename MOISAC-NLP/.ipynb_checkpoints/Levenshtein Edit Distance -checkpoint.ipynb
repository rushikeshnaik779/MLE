{
 "cells": [
  {
   "cell_type": "code",
   "execution_count": 1,
   "metadata": {
    "ExecuteTime": {
     "end_time": "2020-10-01T03:41:05.629579Z",
     "start_time": "2020-10-01T03:41:05.612770Z"
    }
   },
   "outputs": [],
   "source": [
    "def lev_distance(source='', target=''):\n",
    "    # getting the lenth of the both the string \n",
    "    n1, n2 = len(source), len(target)\n",
    "    \n",
    "    # create matrix using length of both strings -  source string sit5s on \n",
    "    matrix = [[0 for i1 in range(n1+1)] for i2 in range(n2+1)]\n",
    "    \n",
    "    \n",
    "    # fill the first row - (0 to n1-1)\n",
    "    for i1 in range(1, n1+1):\n",
    "        matrix[0][i1]=i1\n",
    "        \n",
    "    # fill the first column - (0 to n2-1)\n",
    "    \n",
    "    for i2 in range(1, n2 +1):\n",
    "        matrix[i2][0]=i2\n",
    "        \n",
    "    for i2 in range(1, n2+1):\n",
    "        for i1 in range(1, n1+1):\n",
    "            if (source[i1-1]==target[i2-1]):\n",
    "                value = matrix[i2-1][i1-1]\n",
    "            else: \n",
    "                value = min(matrix[i2-1][i1]   + 1,\n",
    "                            matrix[i2][i1-1]   + 1,\n",
    "                            matrix[i2-1][i1-1] + 1)\n",
    "                \n",
    "            matrix[i2][i1] = value\n",
    "\n",
    "    return matrix[-1][-1]\n",
    "        \n",
    "        \n",
    "        \n",
    "        "
   ]
  },
  {
   "cell_type": "code",
   "execution_count": 2,
   "metadata": {
    "ExecuteTime": {
     "end_time": "2020-10-01T03:41:20.982105Z",
     "start_time": "2020-10-01T03:41:20.963784Z"
    }
   },
   "outputs": [
    {
     "data": {
      "text/plain": [
       "5"
      ]
     },
     "execution_count": 2,
     "metadata": {},
     "output_type": "execute_result"
    }
   ],
   "source": [
    "lev_distance('rushi', 'Rushikesh')"
   ]
  },
  {
   "cell_type": "code",
   "execution_count": 3,
   "metadata": {
    "ExecuteTime": {
     "end_time": "2020-10-01T03:43:35.806681Z",
     "start_time": "2020-10-01T03:43:35.797442Z"
    }
   },
   "outputs": [
    {
     "data": {
      "text/plain": [
       "5"
      ]
     },
     "execution_count": 3,
     "metadata": {},
     "output_type": "execute_result"
    }
   ],
   "source": [
    "from nltk.metrics.distance import edit_distance\n",
    "edit_distance('rushi', 'Rushikesh')"
   ]
  },
  {
   "cell_type": "code",
   "execution_count": 4,
   "metadata": {
    "ExecuteTime": {
     "end_time": "2020-10-01T03:44:07.766889Z",
     "start_time": "2020-10-01T03:44:07.759266Z"
    }
   },
   "outputs": [],
   "source": [
    "# Damerau-Levenshtein Distance \n"
   ]
  },
  {
   "cell_type": "code",
   "execution_count": 9,
   "metadata": {
    "ExecuteTime": {
     "end_time": "2020-10-01T03:46:10.326753Z",
     "start_time": "2020-10-01T03:46:10.318342Z"
    }
   },
   "outputs": [
    {
     "data": {
      "text/plain": [
       "5"
      ]
     },
     "execution_count": 9,
     "metadata": {},
     "output_type": "execute_result"
    }
   ],
   "source": [
    "edit_distance('rushikesh', 'rukesshi', transpositions=True)"
   ]
  },
  {
   "cell_type": "code",
   "execution_count": 8,
   "metadata": {
    "ExecuteTime": {
     "end_time": "2020-10-01T03:46:08.474948Z",
     "start_time": "2020-10-01T03:46:08.464301Z"
    }
   },
   "outputs": [
    {
     "data": {
      "text/plain": [
       "5"
      ]
     },
     "execution_count": 8,
     "metadata": {},
     "output_type": "execute_result"
    }
   ],
   "source": [
    "edit_distance('rushikesh', 'rukesshi', transpositions=False)"
   ]
  },
  {
   "cell_type": "code",
   "execution_count": null,
   "metadata": {},
   "outputs": [],
   "source": []
  }
 ],
 "metadata": {
  "kernelspec": {
   "display_name": "Python 3",
   "language": "python",
   "name": "python3"
  },
  "language_info": {
   "codemirror_mode": {
    "name": "ipython",
    "version": 3
   },
   "file_extension": ".py",
   "mimetype": "text/x-python",
   "name": "python",
   "nbconvert_exporter": "python",
   "pygments_lexer": "ipython3",
   "version": "3.7.7"
  }
 },
 "nbformat": 4,
 "nbformat_minor": 2
}
