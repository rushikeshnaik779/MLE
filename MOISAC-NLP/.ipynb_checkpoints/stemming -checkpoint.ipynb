{
 "cells": [
  {
   "cell_type": "code",
   "execution_count": 1,
   "metadata": {
    "ExecuteTime": {
     "end_time": "2020-09-28T02:43:07.646655Z",
     "start_time": "2020-09-28T02:43:06.679044Z"
    }
   },
   "outputs": [
    {
     "name": "stderr",
     "output_type": "stream",
     "text": [
      "/usr/local/Cellar/python/3.7.7/Frameworks/Python.framework/Versions/3.7/lib/python3.7/importlib/_bootstrap.py:219: RuntimeWarning: numpy.ufunc size changed, may indicate binary incompatibility. Expected 192 from C header, got 216 from PyObject\n",
      "  return f(*args, **kwds)\n",
      "/usr/local/Cellar/python/3.7.7/Frameworks/Python.framework/Versions/3.7/lib/python3.7/importlib/_bootstrap.py:219: RuntimeWarning: numpy.ufunc size changed, may indicate binary incompatibility. Expected 192 from C header, got 216 from PyObject\n",
      "  return f(*args, **kwds)\n"
     ]
    }
   ],
   "source": [
    "import pandas as pd\n",
    "from nltk.tokenize import word_tokenize\n",
    "from nltk.stem.porter import PorterStemmer\n",
    "from nltk.stem.snowball import SnowballStemmer"
   ]
  },
  {
   "cell_type": "code",
   "execution_count": 2,
   "metadata": {
    "ExecuteTime": {
     "end_time": "2020-09-28T02:43:48.819102Z",
     "start_time": "2020-09-28T02:43:48.806531Z"
    }
   },
   "outputs": [],
   "source": [
    "text = \"He showed extraordinary energy, resource and military talent in stemming the advance of the royalists, who now followed up their victories by advancing into the association; he defeated them at Gainsborough on the 28th of July, and managed a masterly retreat before overwhelming numbers to Lincoln, while the victory on the 11th of October at Winceby finally secured the association, and maintained the wedge which prevented the junction of the royalists in the north with the king in the south.\""
   ]
  },
  {
   "cell_type": "code",
   "execution_count": 3,
   "metadata": {
    "ExecuteTime": {
     "end_time": "2020-09-28T02:43:56.267195Z",
     "start_time": "2020-09-28T02:43:56.260401Z"
    }
   },
   "outputs": [
    {
     "name": "stdout",
     "output_type": "stream",
     "text": [
      "He showed extraordinary energy, resource and military talent in stemming the advance of the royalists, who now followed up their victories by advancing into the association; he defeated them at Gainsborough on the 28th of July, and managed a masterly retreat before overwhelming numbers to Lincoln, while the victory on the 11th of October at Winceby finally secured the association, and maintained the wedge which prevented the junction of the royalists in the north with the king in the south.\n"
     ]
    }
   ],
   "source": [
    "print(text)"
   ]
  },
  {
   "cell_type": "code",
   "execution_count": 6,
   "metadata": {
    "ExecuteTime": {
     "end_time": "2020-09-28T02:46:09.907888Z",
     "start_time": "2020-09-28T02:46:09.892930Z"
    }
   },
   "outputs": [
    {
     "name": "stdout",
     "output_type": "stream",
     "text": [
      "['he', 'showed', 'extraordinary', 'energy', ',', 'resource', 'and', 'military', 'talent', 'in', 'stemming', 'the', 'advance', 'of', 'the', 'royalists', ',', 'who', 'now', 'followed', 'up', 'their', 'victories', 'by', 'advancing', 'into', 'the', 'association', ';', 'he', 'defeated', 'them', 'at', 'gainsborough', 'on', 'the', '28th', 'of', 'july', ',', 'and', 'managed', 'a', 'masterly', 'retreat', 'before', 'overwhelming', 'numbers', 'to', 'lincoln', ',', 'while', 'the', 'victory', 'on', 'the', '11th', 'of', 'october', 'at', 'winceby', 'finally', 'secured', 'the', 'association', ',', 'and', 'maintained', 'the', 'wedge', 'which', 'prevented', 'the', 'junction', 'of', 'the', 'royalists', 'in', 'the', 'north', 'with', 'the', 'king', 'in', 'the', 'south', '.']\n",
      "87\n"
     ]
    }
   ],
   "source": [
    "tokens = word_tokenize(text.lower())\n",
    "print(tokens)\n",
    "print(len(tokens))"
   ]
  },
  {
   "cell_type": "code",
   "execution_count": 5,
   "metadata": {
    "ExecuteTime": {
     "end_time": "2020-09-28T02:45:57.669976Z",
     "start_time": "2020-09-28T02:45:57.654577Z"
    }
   },
   "outputs": [
    {
     "name": "stdout",
     "output_type": "stream",
     "text": [
      "['he', 'show', 'extraordinari', 'energi', ',', 'resourc', 'and', 'militari', 'talent', 'in', 'stem', 'the', 'advanc', 'of', 'the', 'royalist', ',', 'who', 'now', 'follow', 'up', 'their', 'victori', 'by', 'advanc', 'into', 'the', 'associ', ';', 'he', 'defeat', 'them', 'at', 'gainsborough', 'on', 'the', '28th', 'of', 'juli', ',', 'and', 'manag', 'a', 'masterli', 'retreat', 'befor', 'overwhelm', 'number', 'to', 'lincoln', ',', 'while', 'the', 'victori', 'on', 'the', '11th', 'of', 'octob', 'at', 'wincebi', 'final', 'secur', 'the', 'associ', ',', 'and', 'maintain', 'the', 'wedg', 'which', 'prevent', 'the', 'junction', 'of', 'the', 'royalist', 'in', 'the', 'north', 'with', 'the', 'king', 'in', 'the', 'south', '.']\n",
      "87\n"
     ]
    }
   ],
   "source": [
    "stemmer = PorterStemmer()\n",
    "porter_stemmer = [stemmer.stem(token) for token in tokens]\n",
    "print(porter_stemmer)\n",
    "print(len(porter_stemmer))"
   ]
  },
  {
   "cell_type": "code",
   "execution_count": 7,
   "metadata": {
    "ExecuteTime": {
     "end_time": "2020-09-28T02:48:18.708547Z",
     "start_time": "2020-09-28T02:48:18.697447Z"
    }
   },
   "outputs": [
    {
     "name": "stdout",
     "output_type": "stream",
     "text": [
      "['he', 'show', 'extraordinari', 'energi', ',', 'resourc', 'and', 'militari', 'talent', 'in', 'stem', 'the', 'advanc', 'of', 'the', 'royalist', ',', 'who', 'now', 'follow', 'up', 'their', 'victori', 'by', 'advanc', 'into', 'the', 'associ', ';', 'he', 'defeat', 'them', 'at', 'gainsborough', 'on', 'the', '28th', 'of', 'juli', ',', 'and', 'manag', 'a', 'master', 'retreat', 'befor', 'overwhelm', 'number', 'to', 'lincoln', ',', 'while', 'the', 'victori', 'on', 'the', '11th', 'of', 'octob', 'at', 'wincebi', 'final', 'secur', 'the', 'associ', ',', 'and', 'maintain', 'the', 'wedg', 'which', 'prevent', 'the', 'junction', 'of', 'the', 'royalist', 'in', 'the', 'north', 'with', 'the', 'king', 'in', 'the', 'south', '.']\n",
      "87\n"
     ]
    }
   ],
   "source": [
    "stemmer = SnowballStemmer('english')\n",
    "snowball = [stemmer.stem(token) for token in tokens]\n",
    "print(snowball)\n",
    "print(len(snowball))"
   ]
  },
  {
   "cell_type": "code",
   "execution_count": 8,
   "metadata": {
    "ExecuteTime": {
     "end_time": "2020-09-28T02:50:47.098123Z",
     "start_time": "2020-09-28T02:50:47.061578Z"
    }
   },
   "outputs": [
    {
     "data": {
      "text/html": [
       "<div>\n",
       "<style scoped>\n",
       "    .dataframe tbody tr th:only-of-type {\n",
       "        vertical-align: middle;\n",
       "    }\n",
       "\n",
       "    .dataframe tbody tr th {\n",
       "        vertical-align: top;\n",
       "    }\n",
       "\n",
       "    .dataframe thead th {\n",
       "        text-align: right;\n",
       "    }\n",
       "</style>\n",
       "<table border=\"1\" class=\"dataframe\">\n",
       "  <thead>\n",
       "    <tr style=\"text-align: right;\">\n",
       "      <th></th>\n",
       "      <th>token</th>\n",
       "      <th>PORTER_STEMMER</th>\n",
       "      <th>SNOWBALL_STEMMER</th>\n",
       "    </tr>\n",
       "  </thead>\n",
       "  <tbody>\n",
       "    <tr>\n",
       "      <th>0</th>\n",
       "      <td>he</td>\n",
       "      <td>he</td>\n",
       "      <td>he</td>\n",
       "    </tr>\n",
       "    <tr>\n",
       "      <th>1</th>\n",
       "      <td>showed</td>\n",
       "      <td>show</td>\n",
       "      <td>show</td>\n",
       "    </tr>\n",
       "    <tr>\n",
       "      <th>2</th>\n",
       "      <td>extraordinary</td>\n",
       "      <td>extraordinari</td>\n",
       "      <td>extraordinari</td>\n",
       "    </tr>\n",
       "    <tr>\n",
       "      <th>3</th>\n",
       "      <td>energy</td>\n",
       "      <td>energi</td>\n",
       "      <td>energi</td>\n",
       "    </tr>\n",
       "    <tr>\n",
       "      <th>4</th>\n",
       "      <td>,</td>\n",
       "      <td>,</td>\n",
       "      <td>,</td>\n",
       "    </tr>\n",
       "    <tr>\n",
       "      <th>...</th>\n",
       "      <td>...</td>\n",
       "      <td>...</td>\n",
       "      <td>...</td>\n",
       "    </tr>\n",
       "    <tr>\n",
       "      <th>82</th>\n",
       "      <td>king</td>\n",
       "      <td>king</td>\n",
       "      <td>king</td>\n",
       "    </tr>\n",
       "    <tr>\n",
       "      <th>83</th>\n",
       "      <td>in</td>\n",
       "      <td>in</td>\n",
       "      <td>in</td>\n",
       "    </tr>\n",
       "    <tr>\n",
       "      <th>84</th>\n",
       "      <td>the</td>\n",
       "      <td>the</td>\n",
       "      <td>the</td>\n",
       "    </tr>\n",
       "    <tr>\n",
       "      <th>85</th>\n",
       "      <td>south</td>\n",
       "      <td>south</td>\n",
       "      <td>south</td>\n",
       "    </tr>\n",
       "    <tr>\n",
       "      <th>86</th>\n",
       "      <td>.</td>\n",
       "      <td>.</td>\n",
       "      <td>.</td>\n",
       "    </tr>\n",
       "  </tbody>\n",
       "</table>\n",
       "<p>87 rows × 3 columns</p>\n",
       "</div>"
      ],
      "text/plain": [
       "            token PORTER_STEMMER SNOWBALL_STEMMER\n",
       "0              he             he               he\n",
       "1          showed           show             show\n",
       "2   extraordinary  extraordinari    extraordinari\n",
       "3          energy         energi           energi\n",
       "4               ,              ,                ,\n",
       "..            ...            ...              ...\n",
       "82           king           king             king\n",
       "83             in             in               in\n",
       "84            the            the              the\n",
       "85          south          south            south\n",
       "86              .              .                .\n",
       "\n",
       "[87 rows x 3 columns]"
      ]
     },
     "execution_count": 8,
     "metadata": {},
     "output_type": "execute_result"
    }
   ],
   "source": [
    "df = pd.DataFrame({'token': tokens, 'PORTER_STEMMER':porter_stemmer, 'SNOWBALL_STEMMER':snowball})\n",
    "df = df[['token', 'PORTER_STEMMER', 'SNOWBALL_STEMMER']]\n",
    "df"
   ]
  },
  {
   "cell_type": "code",
   "execution_count": 9,
   "metadata": {
    "ExecuteTime": {
     "end_time": "2020-09-28T02:51:55.635344Z",
     "start_time": "2020-09-28T02:51:55.614084Z"
    }
   },
   "outputs": [
    {
     "data": {
      "text/html": [
       "<div>\n",
       "<style scoped>\n",
       "    .dataframe tbody tr th:only-of-type {\n",
       "        vertical-align: middle;\n",
       "    }\n",
       "\n",
       "    .dataframe tbody tr th {\n",
       "        vertical-align: top;\n",
       "    }\n",
       "\n",
       "    .dataframe thead th {\n",
       "        text-align: right;\n",
       "    }\n",
       "</style>\n",
       "<table border=\"1\" class=\"dataframe\">\n",
       "  <thead>\n",
       "    <tr style=\"text-align: right;\">\n",
       "      <th></th>\n",
       "      <th>token</th>\n",
       "      <th>PORTER_STEMMER</th>\n",
       "      <th>SNOWBALL_STEMMER</th>\n",
       "    </tr>\n",
       "  </thead>\n",
       "  <tbody>\n",
       "    <tr>\n",
       "      <th>1</th>\n",
       "      <td>showed</td>\n",
       "      <td>show</td>\n",
       "      <td>show</td>\n",
       "    </tr>\n",
       "    <tr>\n",
       "      <th>2</th>\n",
       "      <td>extraordinary</td>\n",
       "      <td>extraordinari</td>\n",
       "      <td>extraordinari</td>\n",
       "    </tr>\n",
       "    <tr>\n",
       "      <th>3</th>\n",
       "      <td>energy</td>\n",
       "      <td>energi</td>\n",
       "      <td>energi</td>\n",
       "    </tr>\n",
       "    <tr>\n",
       "      <th>5</th>\n",
       "      <td>resource</td>\n",
       "      <td>resourc</td>\n",
       "      <td>resourc</td>\n",
       "    </tr>\n",
       "    <tr>\n",
       "      <th>7</th>\n",
       "      <td>military</td>\n",
       "      <td>militari</td>\n",
       "      <td>militari</td>\n",
       "    </tr>\n",
       "    <tr>\n",
       "      <th>10</th>\n",
       "      <td>stemming</td>\n",
       "      <td>stem</td>\n",
       "      <td>stem</td>\n",
       "    </tr>\n",
       "    <tr>\n",
       "      <th>12</th>\n",
       "      <td>advance</td>\n",
       "      <td>advanc</td>\n",
       "      <td>advanc</td>\n",
       "    </tr>\n",
       "    <tr>\n",
       "      <th>15</th>\n",
       "      <td>royalists</td>\n",
       "      <td>royalist</td>\n",
       "      <td>royalist</td>\n",
       "    </tr>\n",
       "    <tr>\n",
       "      <th>19</th>\n",
       "      <td>followed</td>\n",
       "      <td>follow</td>\n",
       "      <td>follow</td>\n",
       "    </tr>\n",
       "    <tr>\n",
       "      <th>22</th>\n",
       "      <td>victories</td>\n",
       "      <td>victori</td>\n",
       "      <td>victori</td>\n",
       "    </tr>\n",
       "    <tr>\n",
       "      <th>24</th>\n",
       "      <td>advancing</td>\n",
       "      <td>advanc</td>\n",
       "      <td>advanc</td>\n",
       "    </tr>\n",
       "    <tr>\n",
       "      <th>27</th>\n",
       "      <td>association</td>\n",
       "      <td>associ</td>\n",
       "      <td>associ</td>\n",
       "    </tr>\n",
       "    <tr>\n",
       "      <th>30</th>\n",
       "      <td>defeated</td>\n",
       "      <td>defeat</td>\n",
       "      <td>defeat</td>\n",
       "    </tr>\n",
       "    <tr>\n",
       "      <th>38</th>\n",
       "      <td>july</td>\n",
       "      <td>juli</td>\n",
       "      <td>juli</td>\n",
       "    </tr>\n",
       "    <tr>\n",
       "      <th>41</th>\n",
       "      <td>managed</td>\n",
       "      <td>manag</td>\n",
       "      <td>manag</td>\n",
       "    </tr>\n",
       "    <tr>\n",
       "      <th>43</th>\n",
       "      <td>masterly</td>\n",
       "      <td>masterli</td>\n",
       "      <td>master</td>\n",
       "    </tr>\n",
       "    <tr>\n",
       "      <th>45</th>\n",
       "      <td>before</td>\n",
       "      <td>befor</td>\n",
       "      <td>befor</td>\n",
       "    </tr>\n",
       "    <tr>\n",
       "      <th>46</th>\n",
       "      <td>overwhelming</td>\n",
       "      <td>overwhelm</td>\n",
       "      <td>overwhelm</td>\n",
       "    </tr>\n",
       "    <tr>\n",
       "      <th>47</th>\n",
       "      <td>numbers</td>\n",
       "      <td>number</td>\n",
       "      <td>number</td>\n",
       "    </tr>\n",
       "    <tr>\n",
       "      <th>53</th>\n",
       "      <td>victory</td>\n",
       "      <td>victori</td>\n",
       "      <td>victori</td>\n",
       "    </tr>\n",
       "    <tr>\n",
       "      <th>58</th>\n",
       "      <td>october</td>\n",
       "      <td>octob</td>\n",
       "      <td>octob</td>\n",
       "    </tr>\n",
       "    <tr>\n",
       "      <th>60</th>\n",
       "      <td>winceby</td>\n",
       "      <td>wincebi</td>\n",
       "      <td>wincebi</td>\n",
       "    </tr>\n",
       "    <tr>\n",
       "      <th>61</th>\n",
       "      <td>finally</td>\n",
       "      <td>final</td>\n",
       "      <td>final</td>\n",
       "    </tr>\n",
       "    <tr>\n",
       "      <th>62</th>\n",
       "      <td>secured</td>\n",
       "      <td>secur</td>\n",
       "      <td>secur</td>\n",
       "    </tr>\n",
       "    <tr>\n",
       "      <th>64</th>\n",
       "      <td>association</td>\n",
       "      <td>associ</td>\n",
       "      <td>associ</td>\n",
       "    </tr>\n",
       "    <tr>\n",
       "      <th>67</th>\n",
       "      <td>maintained</td>\n",
       "      <td>maintain</td>\n",
       "      <td>maintain</td>\n",
       "    </tr>\n",
       "    <tr>\n",
       "      <th>69</th>\n",
       "      <td>wedge</td>\n",
       "      <td>wedg</td>\n",
       "      <td>wedg</td>\n",
       "    </tr>\n",
       "    <tr>\n",
       "      <th>71</th>\n",
       "      <td>prevented</td>\n",
       "      <td>prevent</td>\n",
       "      <td>prevent</td>\n",
       "    </tr>\n",
       "    <tr>\n",
       "      <th>76</th>\n",
       "      <td>royalists</td>\n",
       "      <td>royalist</td>\n",
       "      <td>royalist</td>\n",
       "    </tr>\n",
       "  </tbody>\n",
       "</table>\n",
       "</div>"
      ],
      "text/plain": [
       "            token PORTER_STEMMER SNOWBALL_STEMMER\n",
       "1          showed           show             show\n",
       "2   extraordinary  extraordinari    extraordinari\n",
       "3          energy         energi           energi\n",
       "5        resource        resourc          resourc\n",
       "7        military       militari         militari\n",
       "10       stemming           stem             stem\n",
       "12        advance         advanc           advanc\n",
       "15      royalists       royalist         royalist\n",
       "19       followed         follow           follow\n",
       "22      victories        victori          victori\n",
       "24      advancing         advanc           advanc\n",
       "27    association         associ           associ\n",
       "30       defeated         defeat           defeat\n",
       "38           july           juli             juli\n",
       "41        managed          manag            manag\n",
       "43       masterly       masterli           master\n",
       "45         before          befor            befor\n",
       "46   overwhelming      overwhelm        overwhelm\n",
       "47        numbers         number           number\n",
       "53        victory        victori          victori\n",
       "58        october          octob            octob\n",
       "60        winceby        wincebi          wincebi\n",
       "61        finally          final            final\n",
       "62        secured          secur            secur\n",
       "64    association         associ           associ\n",
       "67     maintained       maintain         maintain\n",
       "69          wedge           wedg             wedg\n",
       "71      prevented        prevent          prevent\n",
       "76      royalists       royalist         royalist"
      ]
     },
     "execution_count": 9,
     "metadata": {},
     "output_type": "execute_result"
    }
   ],
   "source": [
    "df[(df.token != df.PORTER_STEMMER) | (df.token != df.SNOWBALL_STEMMER)]"
   ]
  },
  {
   "cell_type": "code",
   "execution_count": null,
   "metadata": {},
   "outputs": [],
   "source": []
  }
 ],
 "metadata": {
  "kernelspec": {
   "display_name": "Python 3",
   "language": "python",
   "name": "python3"
  },
  "language_info": {
   "codemirror_mode": {
    "name": "ipython",
    "version": 3
   },
   "file_extension": ".py",
   "mimetype": "text/x-python",
   "name": "python",
   "nbconvert_exporter": "python",
   "pygments_lexer": "ipython3",
   "version": "3.7.7"
  }
 },
 "nbformat": 4,
 "nbformat_minor": 2
}
