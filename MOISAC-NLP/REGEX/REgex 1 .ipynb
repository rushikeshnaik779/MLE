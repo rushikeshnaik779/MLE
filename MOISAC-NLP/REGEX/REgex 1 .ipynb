{
 "cells": [
  {
   "cell_type": "code",
   "execution_count": 18,
   "metadata": {
    "ExecuteTime": {
     "end_time": "2020-09-27T10:30:24.064279Z",
     "start_time": "2020-09-27T10:30:24.059627Z"
    }
   },
   "outputs": [],
   "source": [
    "import re"
   ]
  },
  {
   "cell_type": "code",
   "execution_count": 19,
   "metadata": {
    "ExecuteTime": {
     "end_time": "2020-09-27T10:30:24.244356Z",
     "start_time": "2020-09-27T10:30:24.236059Z"
    }
   },
   "outputs": [
    {
     "data": {
      "text/plain": [
       "<re.Match object; span=(0, 6), match='Teclov'>"
      ]
     },
     "execution_count": 19,
     "metadata": {},
     "output_type": "execute_result"
    }
   ],
   "source": [
    "re.search('Teclov', 'Teclov is awesome tec_lov tec_l')"
   ]
  },
  {
   "cell_type": "code",
   "execution_count": 20,
   "metadata": {
    "ExecuteTime": {
     "end_time": "2020-09-27T10:30:24.398411Z",
     "start_time": "2020-09-27T10:30:24.392783Z"
    }
   },
   "outputs": [],
   "source": [
    "match = re.search('Ravi', 'My Manager is Ravi and Ravi is awesome')"
   ]
  },
  {
   "cell_type": "code",
   "execution_count": 21,
   "metadata": {
    "ExecuteTime": {
     "end_time": "2020-09-27T10:30:24.581258Z",
     "start_time": "2020-09-27T10:30:24.568371Z"
    }
   },
   "outputs": [
    {
     "name": "stdout",
     "output_type": "stream",
     "text": [
      "Ravi\n"
     ]
    }
   ],
   "source": [
    "print(match.group())"
   ]
  },
  {
   "cell_type": "code",
   "execution_count": 22,
   "metadata": {
    "ExecuteTime": {
     "end_time": "2020-09-27T10:30:24.726023Z",
     "start_time": "2020-09-27T10:30:24.714157Z"
    }
   },
   "outputs": [],
   "source": [
    "def find_pattern( patterns, text):\n",
    "    return re.search(patterns, text)"
   ]
  },
  {
   "cell_type": "code",
   "execution_count": 23,
   "metadata": {
    "ExecuteTime": {
     "end_time": "2020-09-27T10:30:24.880217Z",
     "start_time": "2020-09-27T10:30:24.867096Z"
    }
   },
   "outputs": [
    {
     "data": {
      "text/plain": [
       "<re.Match object; span=(0, 1), match='a'>"
      ]
     },
     "execution_count": 23,
     "metadata": {},
     "output_type": "execute_result"
    }
   ],
   "source": [
    "find_pattern(\"ab*\", \"ac\")"
   ]
  },
  {
   "cell_type": "code",
   "execution_count": 24,
   "metadata": {
    "ExecuteTime": {
     "end_time": "2020-09-27T10:30:25.042263Z",
     "start_time": "2020-09-27T10:30:25.027260Z"
    }
   },
   "outputs": [
    {
     "name": "stdout",
     "output_type": "stream",
     "text": [
      "<re.Match object; span=(0, 2), match='ab'>\n",
      "<re.Match object; span=(0, 3), match='abb'>\n",
      "<re.Match object; span=(0, 10), match='abbbcccccc'>\n"
     ]
    }
   ],
   "source": [
    "# '*': zero or more  \n",
    "print(find_pattern(\"ab*\", \"abc\"))\n",
    "print(find_pattern(\"ab*\", \"abbc\"))\n",
    "print(find_pattern(\"ab*c*\", \"abbbcccccc\"))"
   ]
  },
  {
   "cell_type": "code",
   "execution_count": 25,
   "metadata": {
    "ExecuteTime": {
     "end_time": "2020-09-27T10:30:25.181393Z",
     "start_time": "2020-09-27T10:30:25.171139Z"
    }
   },
   "outputs": [
    {
     "name": "stdout",
     "output_type": "stream",
     "text": [
      "<re.Match object; span=(0, 1), match='a'>\n",
      "<re.Match object; span=(0, 2), match='ab'>\n",
      "<re.Match object; span=(0, 2), match='ab'>\n",
      "<re.Match object; span=(0, 2), match='ab'>\n"
     ]
    }
   ],
   "source": [
    "# '? ': Zero or one (tells whether a pattern is absent or present )\n",
    "print(find_pattern(\"ab?\", \"ac\"))\n",
    "print(find_pattern(\"ab?\", \"abc\"))\n",
    "print(find_pattern(\"ab?\", \"abbc\"))\n",
    "print(find_pattern(\"ab?c?\", \"abbbcccccc\"))"
   ]
  },
  {
   "cell_type": "code",
   "execution_count": 26,
   "metadata": {
    "ExecuteTime": {
     "end_time": "2020-09-27T10:30:25.334640Z",
     "start_time": "2020-09-27T10:30:25.328511Z"
    }
   },
   "outputs": [
    {
     "name": "stdout",
     "output_type": "stream",
     "text": [
      "None\n",
      "<re.Match object; span=(0, 2), match='ab'>\n",
      "<re.Match object; span=(0, 3), match='abb'>\n",
      "<re.Match object; span=(0, 10), match='abbbcccccc'>\n"
     ]
    }
   ],
   "source": [
    "# '+' : One or more \n",
    "print(find_pattern(\"ab+\", \"ac\"))\n",
    "print(find_pattern(\"ab+\", \"abc\"))\n",
    "print(find_pattern(\"ab+\", \"abbc\"))\n",
    "print(find_pattern(\"ab+c+\", \"abbbcccccc\"))"
   ]
  },
  {
   "cell_type": "code",
   "execution_count": 27,
   "metadata": {
    "ExecuteTime": {
     "end_time": "2020-09-27T10:30:25.486025Z",
     "start_time": "2020-09-27T10:30:25.480306Z"
    }
   },
   "outputs": [
    {
     "name": "stdout",
     "output_type": "stream",
     "text": [
      "<re.Match object; span=(0, 3), match='abb'>\n"
     ]
    }
   ],
   "source": [
    "# {n}: Matches if a character is present exactly n number of times \n",
    "print(find_pattern(\"ab{2}\", \"abbc\"))\n"
   ]
  },
  {
   "cell_type": "code",
   "execution_count": 28,
   "metadata": {
    "ExecuteTime": {
     "end_time": "2020-09-27T10:30:26.004160Z",
     "start_time": "2020-09-27T10:30:25.995181Z"
    }
   },
   "outputs": [
    {
     "name": "stdout",
     "output_type": "stream",
     "text": [
      "<re.Match object; span=(1, 7), match='abbbbb'>\n",
      "None\n",
      "<re.Match object; span=(0, 1), match='a'>\n",
      "None\n"
     ]
    }
   ],
   "source": [
    "# {m, n}: Matches if a character is present from m to n number of times \n",
    "print(find_pattern(\"ab{3,5}\", \"aabbbbbbc\"))\n",
    "print(find_pattern(\"ab{7,10}\", \"aabbbbbbc\"))\n",
    "print(find_pattern(\"ab{,10}\", \"aabbbbbbc\"))#return any minimum value but max must be 10\n",
    "print(find_pattern( \"ab{10,}\", \"aabbbbbbc\"))\n"
   ]
  },
  {
   "cell_type": "code",
   "execution_count": null,
   "metadata": {},
   "outputs": [],
   "source": []
  },
  {
   "cell_type": "markdown",
   "metadata": {},
   "source": [
    "## Anchors "
   ]
  },
  {
   "cell_type": "code",
   "execution_count": 29,
   "metadata": {
    "ExecuteTime": {
     "end_time": "2020-09-27T10:30:27.916042Z",
     "start_time": "2020-09-27T10:30:27.910452Z"
    }
   },
   "outputs": [],
   "source": [
    "# '^' :Indicates start of string \n",
    "# '$': Indicates end of string"
   ]
  },
  {
   "cell_type": "code",
   "execution_count": 30,
   "metadata": {
    "ExecuteTime": {
     "end_time": "2020-09-27T10:30:28.189496Z",
     "start_time": "2020-09-27T10:30:28.180044Z"
    }
   },
   "outputs": [
    {
     "name": "stdout",
     "output_type": "stream",
     "text": [
      "<re.Match object; span=(0, 1), match='J'>\n"
     ]
    }
   ],
   "source": [
    "print(find_pattern('^J', \"James\"))"
   ]
  },
  {
   "cell_type": "code",
   "execution_count": 31,
   "metadata": {
    "ExecuteTime": {
     "end_time": "2020-09-27T10:30:28.599261Z",
     "start_time": "2020-09-27T10:30:28.593015Z"
    }
   },
   "outputs": [
    {
     "name": "stdout",
     "output_type": "stream",
     "text": [
      "None\n"
     ]
    }
   ],
   "source": [
    "print(find_pattern('^J', \"pjama\"))"
   ]
  },
  {
   "cell_type": "code",
   "execution_count": 32,
   "metadata": {
    "ExecuteTime": {
     "end_time": "2020-09-27T10:30:28.990187Z",
     "start_time": "2020-09-27T10:30:28.980815Z"
    }
   },
   "outputs": [
    {
     "name": "stdout",
     "output_type": "stream",
     "text": [
      "<re.Match object; span=(5, 6), match='J'>\n"
     ]
    }
   ],
   "source": [
    "print(find_pattern('J$','pjamaJ'))"
   ]
  },
  {
   "cell_type": "code",
   "execution_count": 33,
   "metadata": {
    "ExecuteTime": {
     "end_time": "2020-09-27T10:30:29.197710Z",
     "start_time": "2020-09-27T10:30:29.173848Z"
    }
   },
   "outputs": [
    {
     "name": "stdout",
     "output_type": "stream",
     "text": [
      "<re.Match object; span=(6, 7), match='J'>\n"
     ]
    }
   ],
   "source": [
    "print(find_pattern('J$', 'JpjamaJ'))"
   ]
  },
  {
   "cell_type": "markdown",
   "metadata": {},
   "source": [
    "### Wild card "
   ]
  },
  {
   "cell_type": "code",
   "execution_count": 34,
   "metadata": {
    "ExecuteTime": {
     "end_time": "2020-09-27T10:30:30.153379Z",
     "start_time": "2020-09-27T10:30:30.144035Z"
    }
   },
   "outputs": [
    {
     "name": "stdout",
     "output_type": "stream",
     "text": [
      "<re.Match object; span=(0, 1), match='.'>\n",
      "<re.Match object; span=(0, 1), match='#'>\n"
     ]
    }
   ],
   "source": [
    "# : '.' matches any character \n",
    "\n",
    "print(find_pattern(\".\", \".akjasdghasjkdhkj\"))\n",
    "print(find_pattern(\".\", \"#sakj.fgaksjds\"))"
   ]
  },
  {
   "cell_type": "code",
   "execution_count": 35,
   "metadata": {
    "ExecuteTime": {
     "end_time": "2020-09-27T10:30:30.341225Z",
     "start_time": "2020-09-27T10:30:30.330607Z"
    }
   },
   "outputs": [],
   "source": [
    "# WHITE SPACE \n",
    "\n",
    "# single space \n",
    "# tab space \n",
    "# multiple space \n",
    "# newline character "
   ]
  },
  {
   "cell_type": "markdown",
   "metadata": {},
   "source": [
    "## Character Set pattern matching "
   ]
  },
  {
   "cell_type": "code",
   "execution_count": 38,
   "metadata": {
    "ExecuteTime": {
     "end_time": "2020-09-27T10:31:43.435486Z",
     "start_time": "2020-09-27T10:31:43.430385Z"
    }
   },
   "outputs": [
    {
     "name": "stdout",
     "output_type": "stream",
     "text": [
      "<re.Match object; span=(0, 1), match='b'>\n"
     ]
    }
   ],
   "source": [
    "print(find_pattern('[abc]', \"b\"))"
   ]
  },
  {
   "cell_type": "code",
   "execution_count": 39,
   "metadata": {
    "ExecuteTime": {
     "end_time": "2020-09-27T10:31:59.149945Z",
     "start_time": "2020-09-27T10:31:59.143973Z"
    }
   },
   "outputs": [
    {
     "name": "stdout",
     "output_type": "stream",
     "text": [
      "<re.Match object; span=(0, 1), match='x'>\n"
     ]
    }
   ],
   "source": [
    "print(find_pattern('[a-z]', \"x\"))"
   ]
  },
  {
   "cell_type": "code",
   "execution_count": 56,
   "metadata": {
    "ExecuteTime": {
     "end_time": "2020-09-27T10:48:57.984554Z",
     "start_time": "2020-09-27T10:48:57.976504Z"
    }
   },
   "outputs": [
    {
     "name": "stdout",
     "output_type": "stream",
     "text": [
      "None\n"
     ]
    }
   ],
   "source": [
    "print(find_pattern(\"[a-zA-Z]{1, 10}[0-9]{4}\", \"abcbaA1234\"))"
   ]
  },
  {
   "cell_type": "markdown",
   "metadata": {},
   "source": [
    "### Greedy vs Non-greedy regex"
   ]
  },
  {
   "cell_type": "code",
   "execution_count": 57,
   "metadata": {
    "ExecuteTime": {
     "end_time": "2020-09-27T10:52:15.423719Z",
     "start_time": "2020-09-27T10:52:15.418261Z"
    }
   },
   "outputs": [
    {
     "name": "stdout",
     "output_type": "stream",
     "text": [
      "<re.Match object; span=(1, 7), match='abbbbb'>\n"
     ]
    }
   ],
   "source": [
    "print(find_pattern(\"ab{3,5}\", \"aabbbbbb\" ))"
   ]
  },
  {
   "cell_type": "code",
   "execution_count": 58,
   "metadata": {
    "ExecuteTime": {
     "end_time": "2020-09-27T10:53:00.871918Z",
     "start_time": "2020-09-27T10:53:00.863898Z"
    }
   },
   "outputs": [
    {
     "name": "stdout",
     "output_type": "stream",
     "text": [
      "<re.Match object; span=(1, 5), match='abbb'>\n"
     ]
    }
   ],
   "source": [
    "print(find_pattern(\"ab{3,5}?\", \"aabbbbbb\")) # after putting a question mark it becomes non-greedy "
   ]
  },
  {
   "cell_type": "code",
   "execution_count": 59,
   "metadata": {
    "ExecuteTime": {
     "end_time": "2020-09-27T10:56:25.939818Z",
     "start_time": "2020-09-27T10:56:25.932419Z"
    }
   },
   "outputs": [
    {
     "name": "stdout",
     "output_type": "stream",
     "text": [
      "<re.Match object; span=(0, 31), match='<html><p></psdfsdfdsfsd></html>'>\n"
     ]
    }
   ],
   "source": [
    "print(re.search(\"<.*>\", \"<html><p></psdfsdfdsfsd></html>\"))"
   ]
  },
  {
   "cell_type": "code",
   "execution_count": 62,
   "metadata": {
    "ExecuteTime": {
     "end_time": "2020-09-27T10:56:52.841724Z",
     "start_time": "2020-09-27T10:56:52.835599Z"
    }
   },
   "outputs": [
    {
     "name": "stdout",
     "output_type": "stream",
     "text": [
      "<re.Match object; span=(0, 6), match='<html>'>\n"
     ]
    }
   ],
   "source": [
    "print(re.search(\"<.*?>\", \"<html><p></psdfsdfdsfsd></html>\"))"
   ]
  },
  {
   "cell_type": "code",
   "execution_count": 65,
   "metadata": {
    "ExecuteTime": {
     "end_time": "2020-09-27T10:58:13.905713Z",
     "start_time": "2020-09-27T10:58:13.896548Z"
    }
   },
   "outputs": [
    {
     "name": "stdout",
     "output_type": "stream",
     "text": [
      "<re.Match object; span=(0, 3), match='bat'>\n"
     ]
    }
   ],
   "source": [
    "print(re.search(\"bat+?\", \"batman\"))"
   ]
  },
  {
   "cell_type": "markdown",
   "metadata": {},
   "source": [
    "#### Different RE Functions "
   ]
  },
  {
   "cell_type": "code",
   "execution_count": 66,
   "metadata": {
    "ExecuteTime": {
     "end_time": "2020-09-27T11:15:18.002034Z",
     "start_time": "2020-09-27T11:15:17.996336Z"
    }
   },
   "outputs": [],
   "source": [
    "def match_pattern(text, patterns):\n",
    "    if re.match(patterns, text):\n",
    "        return re.match(patterns, text)\n",
    "    else: \n",
    "        return \"not found\""
   ]
  },
  {
   "cell_type": "code",
   "execution_count": 68,
   "metadata": {
    "ExecuteTime": {
     "end_time": "2020-09-27T11:16:02.275156Z",
     "start_time": "2020-09-27T11:16:02.268329Z"
    }
   },
   "outputs": [
    {
     "name": "stdout",
     "output_type": "stream",
     "text": [
      "<re.Match object; span=(2, 4), match='bb'>\n"
     ]
    }
   ],
   "source": [
    "print(find_pattern( \"b+\", \"aabbc\"))"
   ]
  },
  {
   "cell_type": "code",
   "execution_count": 72,
   "metadata": {
    "ExecuteTime": {
     "end_time": "2020-09-27T11:17:35.916356Z",
     "start_time": "2020-09-27T11:17:35.910147Z"
    }
   },
   "outputs": [
    {
     "name": "stdout",
     "output_type": "stream",
     "text": [
      "not found\n"
     ]
    }
   ],
   "source": [
    "print(match_pattern(\"aabbc\", \"b+\"))"
   ]
  },
  {
   "cell_type": "code",
   "execution_count": null,
   "metadata": {},
   "outputs": [],
   "source": []
  }
 ],
 "metadata": {
  "kernelspec": {
   "display_name": "Python 3",
   "language": "python",
   "name": "python3"
  },
  "language_info": {
   "codemirror_mode": {
    "name": "ipython",
    "version": 3
   },
   "file_extension": ".py",
   "mimetype": "text/x-python",
   "name": "python",
   "nbconvert_exporter": "python",
   "pygments_lexer": "ipython3",
   "version": "3.7.7"
  }
 },
 "nbformat": 4,
 "nbformat_minor": 2
}
