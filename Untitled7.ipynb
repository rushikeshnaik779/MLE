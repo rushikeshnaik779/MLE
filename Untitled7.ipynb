{
  "nbformat": 4,
  "nbformat_minor": 0,
  "metadata": {
    "colab": {
      "name": "Untitled7.ipynb",
      "provenance": [],
      "authorship_tag": "ABX9TyNFT7gdo2ahRPye2yxLB+IE",
      "include_colab_link": true
    },
    "kernelspec": {
      "name": "python3",
      "display_name": "Python 3"
    }
  },
  "cells": [
    {
      "cell_type": "markdown",
      "metadata": {
        "id": "view-in-github",
        "colab_type": "text"
      },
      "source": [
        "<a href=\"https://colab.research.google.com/github/rushikeshnaik779/MLE/blob/master/Untitled7.ipynb\" target=\"_parent\"><img src=\"https://colab.research.google.com/assets/colab-badge.svg\" alt=\"Open In Colab\"/></a>"
      ]
    },
    {
      "cell_type": "code",
      "metadata": {
        "id": "pPdr97MsJvm7"
      },
      "source": [
        "import numpy as np\n",
        "import tensorflow as tf\n",
        "corpus_raw = 'He is the king . The king is royal . She is the royal queen '\n",
        "\n",
        "# convert to lower case \n",
        "corpus_raw = corpus_raw.lower()"
      ],
      "execution_count": 1,
      "outputs": []
    },
    {
      "cell_type": "code",
      "metadata": {
        "id": "wiZOBVIyKGQ-"
      },
      "source": [
        "words = []\n",
        "\n",
        "for word in corpus_raw.split():\n",
        "    if word != '.':\n",
        "        words.append(word)\n",
        "\n",
        "words = set(words) # so that all the duplicates are removed \n",
        "\n",
        "word2int = {}\n",
        "int2word = {}\n",
        "\n",
        "vocab_size = len(words) # gives the total number of unique words \n",
        "\n",
        "for i, word in enumerate(words):\n",
        "    word2int[word] = i\n",
        "    int2word[i]=word"
      ],
      "execution_count": 2,
      "outputs": []
    },
    {
      "cell_type": "code",
      "metadata": {
        "colab": {
          "base_uri": "https://localhost:8080/"
        },
        "id": "1GgxCdhuK30d",
        "outputId": "ee15ae66-2f0e-43fe-d70e-aac7131117bb"
      },
      "source": [
        "word2int"
      ],
      "execution_count": 3,
      "outputs": [
        {
          "output_type": "execute_result",
          "data": {
            "text/plain": [
              "{'he': 3, 'is': 4, 'king': 5, 'queen': 1, 'royal': 6, 'she': 0, 'the': 2}"
            ]
          },
          "metadata": {
            "tags": []
          },
          "execution_count": 3
        }
      ]
    },
    {
      "cell_type": "code",
      "metadata": {
        "colab": {
          "base_uri": "https://localhost:8080/"
        },
        "id": "FrMS1NoqK5z8",
        "outputId": "f63ded45-eabd-4b1b-d205-99162f57a392"
      },
      "source": [
        "int2word"
      ],
      "execution_count": 4,
      "outputs": [
        {
          "output_type": "execute_result",
          "data": {
            "text/plain": [
              "{0: 'she', 1: 'queen', 2: 'the', 3: 'he', 4: 'is', 5: 'king', 6: 'royal'}"
            ]
          },
          "metadata": {
            "tags": []
          },
          "execution_count": 4
        }
      ]
    },
    {
      "cell_type": "code",
      "metadata": {
        "id": "Y_Tp66lKK8Ob"
      },
      "source": [
        ""
      ],
      "execution_count": null,
      "outputs": []
    }
  ]
}