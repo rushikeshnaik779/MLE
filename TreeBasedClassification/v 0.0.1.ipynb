{
 "cells": [
  {
   "cell_type": "code",
   "execution_count": 1,
   "metadata": {
    "ExecuteTime": {
     "end_time": "2020-07-04T11:10:50.284596Z",
     "start_time": "2020-07-04T11:10:48.640242Z"
    }
   },
   "outputs": [],
   "source": [
    "\n",
    "import pandas as pd \n",
    "import numpy as np \n",
    "import matplotlib.pyplot as plt \n",
    "%matplotlib inline"
   ]
  },
  {
   "cell_type": "code",
   "execution_count": 2,
   "metadata": {
    "ExecuteTime": {
     "end_time": "2020-07-04T11:11:28.425425Z",
     "start_time": "2020-07-04T11:11:28.381020Z"
    }
   },
   "outputs": [
    {
     "data": {
      "text/html": [
       "<div>\n",
       "<style scoped>\n",
       "    .dataframe tbody tr th:only-of-type {\n",
       "        vertical-align: middle;\n",
       "    }\n",
       "\n",
       "    .dataframe tbody tr th {\n",
       "        vertical-align: top;\n",
       "    }\n",
       "\n",
       "    .dataframe thead th {\n",
       "        text-align: right;\n",
       "    }\n",
       "</style>\n",
       "<table border=\"1\" class=\"dataframe\">\n",
       "  <thead>\n",
       "    <tr style=\"text-align: right;\">\n",
       "      <th></th>\n",
       "      <th>survived</th>\n",
       "      <th>pclass</th>\n",
       "      <th>sex</th>\n",
       "      <th>age</th>\n",
       "      <th>sibsp</th>\n",
       "      <th>parch</th>\n",
       "      <th>fare</th>\n",
       "      <th>embarked</th>\n",
       "      <th>class</th>\n",
       "      <th>who</th>\n",
       "      <th>adult_male</th>\n",
       "      <th>deck</th>\n",
       "      <th>embark_town</th>\n",
       "      <th>alive</th>\n",
       "      <th>alone</th>\n",
       "    </tr>\n",
       "  </thead>\n",
       "  <tbody>\n",
       "    <tr>\n",
       "      <th>0</th>\n",
       "      <td>0</td>\n",
       "      <td>3</td>\n",
       "      <td>male</td>\n",
       "      <td>22.0</td>\n",
       "      <td>1</td>\n",
       "      <td>0</td>\n",
       "      <td>7.2500</td>\n",
       "      <td>S</td>\n",
       "      <td>Third</td>\n",
       "      <td>man</td>\n",
       "      <td>True</td>\n",
       "      <td>NaN</td>\n",
       "      <td>Southampton</td>\n",
       "      <td>no</td>\n",
       "      <td>False</td>\n",
       "    </tr>\n",
       "    <tr>\n",
       "      <th>1</th>\n",
       "      <td>1</td>\n",
       "      <td>1</td>\n",
       "      <td>female</td>\n",
       "      <td>38.0</td>\n",
       "      <td>1</td>\n",
       "      <td>0</td>\n",
       "      <td>71.2833</td>\n",
       "      <td>C</td>\n",
       "      <td>First</td>\n",
       "      <td>woman</td>\n",
       "      <td>False</td>\n",
       "      <td>C</td>\n",
       "      <td>Cherbourg</td>\n",
       "      <td>yes</td>\n",
       "      <td>False</td>\n",
       "    </tr>\n",
       "    <tr>\n",
       "      <th>2</th>\n",
       "      <td>1</td>\n",
       "      <td>3</td>\n",
       "      <td>female</td>\n",
       "      <td>26.0</td>\n",
       "      <td>0</td>\n",
       "      <td>0</td>\n",
       "      <td>7.9250</td>\n",
       "      <td>S</td>\n",
       "      <td>Third</td>\n",
       "      <td>woman</td>\n",
       "      <td>False</td>\n",
       "      <td>NaN</td>\n",
       "      <td>Southampton</td>\n",
       "      <td>yes</td>\n",
       "      <td>True</td>\n",
       "    </tr>\n",
       "    <tr>\n",
       "      <th>3</th>\n",
       "      <td>1</td>\n",
       "      <td>1</td>\n",
       "      <td>female</td>\n",
       "      <td>35.0</td>\n",
       "      <td>1</td>\n",
       "      <td>0</td>\n",
       "      <td>53.1000</td>\n",
       "      <td>S</td>\n",
       "      <td>First</td>\n",
       "      <td>woman</td>\n",
       "      <td>False</td>\n",
       "      <td>C</td>\n",
       "      <td>Southampton</td>\n",
       "      <td>yes</td>\n",
       "      <td>False</td>\n",
       "    </tr>\n",
       "    <tr>\n",
       "      <th>4</th>\n",
       "      <td>0</td>\n",
       "      <td>3</td>\n",
       "      <td>male</td>\n",
       "      <td>35.0</td>\n",
       "      <td>0</td>\n",
       "      <td>0</td>\n",
       "      <td>8.0500</td>\n",
       "      <td>S</td>\n",
       "      <td>Third</td>\n",
       "      <td>man</td>\n",
       "      <td>True</td>\n",
       "      <td>NaN</td>\n",
       "      <td>Southampton</td>\n",
       "      <td>no</td>\n",
       "      <td>True</td>\n",
       "    </tr>\n",
       "  </tbody>\n",
       "</table>\n",
       "</div>"
      ],
      "text/plain": [
       "   survived  pclass     sex   age  sibsp  parch     fare embarked  class  \\\n",
       "0         0       3    male  22.0      1      0   7.2500        S  Third   \n",
       "1         1       1  female  38.0      1      0  71.2833        C  First   \n",
       "2         1       3  female  26.0      0      0   7.9250        S  Third   \n",
       "3         1       1  female  35.0      1      0  53.1000        S  First   \n",
       "4         0       3    male  35.0      0      0   8.0500        S  Third   \n",
       "\n",
       "     who  adult_male deck  embark_town alive  alone  \n",
       "0    man        True  NaN  Southampton    no  False  \n",
       "1  woman       False    C    Cherbourg   yes  False  \n",
       "2  woman       False  NaN  Southampton   yes   True  \n",
       "3  woman       False    C  Southampton   yes  False  \n",
       "4    man        True  NaN  Southampton    no   True  "
      ]
     },
     "execution_count": 2,
     "metadata": {},
     "output_type": "execute_result"
    }
   ],
   "source": [
    "titanic = pd.read_csv('../LogisticRegression/titanic.csv')\n",
    "titanic.head()"
   ]
  },
  {
   "cell_type": "code",
   "execution_count": 3,
   "metadata": {
    "ExecuteTime": {
     "end_time": "2020-07-04T11:13:09.097533Z",
     "start_time": "2020-07-04T11:13:09.033473Z"
    }
   },
   "outputs": [],
   "source": [
    "titanic.groupby(['parch']).age.mean()\n",
    "\n",
    "# creating a function to find the missing value in age .. so I used parch since parch is of 7 types I tried to include \n",
    "# them with their age \n",
    "def approx_age(cols):\n",
    "    Age = cols[0]\n",
    "    Parch = cols[1]\n",
    "    \n",
    "    if pd.isnull(Age):\n",
    "        if Parch == 0 :\n",
    "            return 32\n",
    "        elif Parch == 1 :\n",
    "            return 24\n",
    "        elif Parch == 2 :\n",
    "            return 17\n",
    "        elif Parch == 3 :\n",
    "            return 33 \n",
    "        elif Parch == 4 :\n",
    "            return 44\n",
    "        else : \n",
    "            return 40\n",
    "    else: \n",
    "        return Age\n",
    "titanic['age'] = titanic[['age', 'parch']].apply(approx_age, axis=1)\n",
    "titanic.isnull().sum()\n",
    "## embark has 2 Null value\n",
    "# first we will drop the table deck\n",
    "titanic.drop('deck', axis=1, inplace=True)\n",
    "titanic.dropna(inplace=True)"
   ]
  },
  {
   "cell_type": "code",
   "execution_count": 4,
   "metadata": {
    "ExecuteTime": {
     "end_time": "2020-07-04T11:13:16.531587Z",
     "start_time": "2020-07-04T11:13:16.524479Z"
    }
   },
   "outputs": [],
   "source": [
    "# let's drop the unnecessary columns\n",
    "col = ['alive', 'alone', 'adult_male', 'who', 'embark_town', 'class']\n",
    "data =titanic.drop(col, axis=1)"
   ]
  },
  {
   "cell_type": "code",
   "execution_count": 5,
   "metadata": {
    "ExecuteTime": {
     "end_time": "2020-07-04T11:13:42.080293Z",
     "start_time": "2020-07-04T11:13:42.039224Z"
    }
   },
   "outputs": [
    {
     "data": {
      "text/html": [
       "<div>\n",
       "<style scoped>\n",
       "    .dataframe tbody tr th:only-of-type {\n",
       "        vertical-align: middle;\n",
       "    }\n",
       "\n",
       "    .dataframe tbody tr th {\n",
       "        vertical-align: top;\n",
       "    }\n",
       "\n",
       "    .dataframe thead th {\n",
       "        text-align: right;\n",
       "    }\n",
       "</style>\n",
       "<table border=\"1\" class=\"dataframe\">\n",
       "  <thead>\n",
       "    <tr style=\"text-align: right;\">\n",
       "      <th></th>\n",
       "      <th>survived</th>\n",
       "      <th>pclass</th>\n",
       "      <th>age</th>\n",
       "      <th>sibsp</th>\n",
       "      <th>parch</th>\n",
       "      <th>fare</th>\n",
       "      <th>male</th>\n",
       "      <th>Q</th>\n",
       "      <th>S</th>\n",
       "    </tr>\n",
       "  </thead>\n",
       "  <tbody>\n",
       "    <tr>\n",
       "      <th>0</th>\n",
       "      <td>0</td>\n",
       "      <td>3</td>\n",
       "      <td>22.0</td>\n",
       "      <td>1</td>\n",
       "      <td>0</td>\n",
       "      <td>7.2500</td>\n",
       "      <td>1</td>\n",
       "      <td>0</td>\n",
       "      <td>1</td>\n",
       "    </tr>\n",
       "    <tr>\n",
       "      <th>1</th>\n",
       "      <td>1</td>\n",
       "      <td>1</td>\n",
       "      <td>38.0</td>\n",
       "      <td>1</td>\n",
       "      <td>0</td>\n",
       "      <td>71.2833</td>\n",
       "      <td>0</td>\n",
       "      <td>0</td>\n",
       "      <td>0</td>\n",
       "    </tr>\n",
       "    <tr>\n",
       "      <th>2</th>\n",
       "      <td>1</td>\n",
       "      <td>3</td>\n",
       "      <td>26.0</td>\n",
       "      <td>0</td>\n",
       "      <td>0</td>\n",
       "      <td>7.9250</td>\n",
       "      <td>0</td>\n",
       "      <td>0</td>\n",
       "      <td>1</td>\n",
       "    </tr>\n",
       "    <tr>\n",
       "      <th>3</th>\n",
       "      <td>1</td>\n",
       "      <td>1</td>\n",
       "      <td>35.0</td>\n",
       "      <td>1</td>\n",
       "      <td>0</td>\n",
       "      <td>53.1000</td>\n",
       "      <td>0</td>\n",
       "      <td>0</td>\n",
       "      <td>1</td>\n",
       "    </tr>\n",
       "    <tr>\n",
       "      <th>4</th>\n",
       "      <td>0</td>\n",
       "      <td>3</td>\n",
       "      <td>35.0</td>\n",
       "      <td>0</td>\n",
       "      <td>0</td>\n",
       "      <td>8.0500</td>\n",
       "      <td>1</td>\n",
       "      <td>0</td>\n",
       "      <td>1</td>\n",
       "    </tr>\n",
       "  </tbody>\n",
       "</table>\n",
       "</div>"
      ],
      "text/plain": [
       "   survived  pclass   age  sibsp  parch     fare  male  Q  S\n",
       "0         0       3  22.0      1      0   7.2500     1  0  1\n",
       "1         1       1  38.0      1      0  71.2833     0  0  0\n",
       "2         1       3  26.0      0      0   7.9250     0  0  1\n",
       "3         1       1  35.0      1      0  53.1000     0  0  1\n",
       "4         0       3  35.0      0      0   8.0500     1  0  1"
      ]
     },
     "execution_count": 5,
     "metadata": {},
     "output_type": "execute_result"
    }
   ],
   "source": [
    "# let's create one hot encoding  using get dummies\n",
    "col_to_get_dummies = ['sex', 'embarked']\n",
    "dummie = []\n",
    "for i in col_to_get_dummies:\n",
    "    dummie.append(pd.get_dummies(titanic[i], drop_first=True))\n",
    "    \n",
    "data.drop(['sex', 'embarked'], axis=1, inplace=True)\n",
    "data_dmy = pd.concat([data, dummie[0], dummie[1]], axis=1)\n",
    "data_dmy.head()"
   ]
  },
  {
   "cell_type": "code",
   "execution_count": 7,
   "metadata": {
    "ExecuteTime": {
     "end_time": "2020-07-04T11:13:59.507268Z",
     "start_time": "2020-07-04T11:13:59.500589Z"
    }
   },
   "outputs": [],
   "source": [
    "X = data_dmy.drop(['survived'], axis=1)\n",
    "y = data_dmy['survived']"
   ]
  },
  {
   "cell_type": "code",
   "execution_count": 8,
   "metadata": {
    "ExecuteTime": {
     "end_time": "2020-07-04T11:14:50.268568Z",
     "start_time": "2020-07-04T11:14:50.182018Z"
    }
   },
   "outputs": [],
   "source": [
    "# train test split \n",
    "from sklearn.model_selection import train_test_split\n",
    "x_train, x_test, y_train, y_test = train_test_split(x, y, test_size=0.2)"
   ]
  },
  {
   "cell_type": "code",
   "execution_count": 9,
   "metadata": {
    "ExecuteTime": {
     "end_time": "2020-07-04T11:14:58.102623Z",
     "start_time": "2020-07-04T11:14:58.030432Z"
    }
   },
   "outputs": [],
   "source": [
    "# Logistic regression\n",
    "from sklearn.linear_model import LogisticRegression\n",
    "\n",
    "# removing warnings\n",
    "import warnings\n",
    "warnings.filterwarnings(\"ignore\", category=FutureWarning)\n",
    "\n",
    "# creating as instance of logitic regression\n",
    "Log_R = LogisticRegression()"
   ]
  },
  {
   "cell_type": "code",
   "execution_count": 10,
   "metadata": {
    "ExecuteTime": {
     "end_time": "2020-07-04T11:15:06.712227Z",
     "start_time": "2020-07-04T11:15:06.649438Z"
    }
   },
   "outputs": [
    {
     "name": "stderr",
     "output_type": "stream",
     "text": [
      "/usr/local/lib/python3.7/site-packages/sklearn/linear_model/_logistic.py:764: ConvergenceWarning: lbfgs failed to converge (status=1):\n",
      "STOP: TOTAL NO. of ITERATIONS REACHED LIMIT.\n",
      "\n",
      "Increase the number of iterations (max_iter) or scale the data as shown in:\n",
      "    https://scikit-learn.org/stable/modules/preprocessing.html\n",
      "Please also refer to the documentation for alternative solver options:\n",
      "    https://scikit-learn.org/stable/modules/linear_model.html#logistic-regression\n",
      "  extra_warning_msg=_LOGISTIC_SOLVER_CONVERGENCE_MSG)\n"
     ]
    },
    {
     "data": {
      "text/plain": [
       "LogisticRegression()"
      ]
     },
     "execution_count": 10,
     "metadata": {},
     "output_type": "execute_result"
    }
   ],
   "source": [
    "Log_R.fit(x_train, y_train)"
   ]
  },
  {
   "cell_type": "code",
   "execution_count": 11,
   "metadata": {
    "ExecuteTime": {
     "end_time": "2020-07-04T11:15:17.013276Z",
     "start_time": "2020-07-04T11:15:17.003670Z"
    }
   },
   "outputs": [],
   "source": [
    "y_pred = Log_R.predict(x_test)"
   ]
  },
  {
   "cell_type": "code",
   "execution_count": 14,
   "metadata": {
    "ExecuteTime": {
     "end_time": "2020-07-04T11:16:25.081604Z",
     "start_time": "2020-07-04T11:16:25.074927Z"
    }
   },
   "outputs": [],
   "source": [
    "# confusion matrix an classify report \n",
    "from sklearn.metrics import confusion_matrix, classification_report\n",
    "from sklearn import metrics\n",
    "\n",
    "def metricsss(y_test, y_pred):\n",
    "    print('confusion matrix\\n',confusion_matrix(y_test, y_pred),'\\n')\n",
    "    print('classificatio report \\n',classification_report(y_test, y_pred))"
   ]
  },
  {
   "cell_type": "code",
   "execution_count": 15,
   "metadata": {
    "ExecuteTime": {
     "end_time": "2020-07-04T11:16:25.628135Z",
     "start_time": "2020-07-04T11:16:25.606963Z"
    }
   },
   "outputs": [
    {
     "name": "stdout",
     "output_type": "stream",
     "text": [
      "confusion matrix\n",
      " [[104  10]\n",
      " [ 20  44]] \n",
      "\n",
      "classificatio report \n",
      "               precision    recall  f1-score   support\n",
      "\n",
      "           0       0.84      0.91      0.87       114\n",
      "           1       0.81      0.69      0.75        64\n",
      "\n",
      "    accuracy                           0.83       178\n",
      "   macro avg       0.83      0.80      0.81       178\n",
      "weighted avg       0.83      0.83      0.83       178\n",
      "\n"
     ]
    }
   ],
   "source": [
    "metricsss(y_test, y_pred)"
   ]
  },
  {
   "cell_type": "markdown",
   "metadata": {},
   "source": [
    "* from the matrices it is clear that recall for 0 is good but the recall for 1 is not that good \n",
    "* we will try some tree based classification to check how will it perform and also we will do some hyper-parameter tuning as required "
   ]
  },
  {
   "cell_type": "markdown",
   "metadata": {},
   "source": [
    "## Decision Tree based Classification "
   ]
  },
  {
   "cell_type": "code",
   "execution_count": 28,
   "metadata": {
    "ExecuteTime": {
     "end_time": "2020-07-04T11:28:01.053750Z",
     "start_time": "2020-07-04T11:28:01.028153Z"
    }
   },
   "outputs": [
    {
     "name": "stdout",
     "output_type": "stream",
     "text": [
      "DecisionTreeClassifier()\n",
      "confusion matrix\n",
      " [[100  14]\n",
      " [ 14  50]] \n",
      "\n",
      "classificatio report \n",
      "               precision    recall  f1-score   support\n",
      "\n",
      "           0       0.88      0.88      0.88       114\n",
      "           1       0.78      0.78      0.78        64\n",
      "\n",
      "    accuracy                           0.84       178\n",
      "   macro avg       0.83      0.83      0.83       178\n",
      "weighted avg       0.84      0.84      0.84       178\n",
      "\n"
     ]
    }
   ],
   "source": [
    "from sklearn.tree import DecisionTreeClassifier\n",
    "clf = DecisionTreeClassifier()\n",
    "print(clf)\n",
    "clf.fit(x_train, y_train)\n",
    "y_pred = clf.predict(x_test)\n",
    "\n",
    "metricsss(y_test, y_pred)"
   ]
  },
  {
   "cell_type": "code",
   "execution_count": 75,
   "metadata": {
    "ExecuteTime": {
     "end_time": "2020-07-04T11:37:58.558369Z",
     "start_time": "2020-07-04T11:37:58.551647Z"
    }
   },
   "outputs": [],
   "source": [
    "# let's do some parameter tuning \n",
    "param_grid = {\n",
    "    \"max_depth\":[3,5,6,9,10],\n",
    "    \"max_features\":[1,2,3,4,5,6,8],\n",
    "    \"random_state\":[1,2,3,4,5,6,7,8,9,10,11,100,200,300,400,500,600],\n",
    "    \"min_samples_leaf\":[1,2,3,4,5]\n",
    "}\n"
   ]
  },
  {
   "cell_type": "code",
   "execution_count": 76,
   "metadata": {
    "ExecuteTime": {
     "end_time": "2020-07-04T11:37:58.929762Z",
     "start_time": "2020-07-04T11:37:58.911031Z"
    }
   },
   "outputs": [],
   "source": [
    "from sklearn.model_selection import GridSearchCV"
   ]
  },
  {
   "cell_type": "code",
   "execution_count": 77,
   "metadata": {
    "ExecuteTime": {
     "end_time": "2020-07-04T11:37:59.306804Z",
     "start_time": "2020-07-04T11:37:59.301055Z"
    }
   },
   "outputs": [],
   "source": [
    "grid = GridSearchCV(DecisionTreeClassifier(), param_grid, cv=3)"
   ]
  },
  {
   "cell_type": "code",
   "execution_count": 78,
   "metadata": {
    "ExecuteTime": {
     "end_time": "2020-07-04T11:39:07.809427Z",
     "start_time": "2020-07-04T11:37:59.827412Z"
    }
   },
   "outputs": [
    {
     "data": {
      "text/plain": [
       "GridSearchCV(cv=3, estimator=DecisionTreeClassifier(),\n",
       "             param_grid={'max_depth': [3, 5, 6, 9, 10],\n",
       "                         'max_features': [1, 2, 3, 4, 5, 6, 8],\n",
       "                         'min_samples_leaf': [1, 2, 3, 4, 5],\n",
       "                         'random_state': [1, 2, 3, 4, 5, 6, 7, 8, 9, 10, 11,\n",
       "                                          100, 200, 300, 400, 500, 600]})"
      ]
     },
     "execution_count": 78,
     "metadata": {},
     "output_type": "execute_result"
    }
   ],
   "source": [
    "grid.fit(x_train, y_train)"
   ]
  },
  {
   "cell_type": "code",
   "execution_count": 79,
   "metadata": {
    "ExecuteTime": {
     "end_time": "2020-07-04T11:39:07.821011Z",
     "start_time": "2020-07-04T11:39:07.813266Z"
    }
   },
   "outputs": [
    {
     "name": "stdout",
     "output_type": "stream",
     "text": [
      "{'max_depth': 3, 'max_features': 4, 'min_samples_leaf': 5, 'random_state': 500}\n",
      "0.8199718706047819\n"
     ]
    }
   ],
   "source": [
    "print(grid.best_params_)\n",
    "print(grid.best_score_)"
   ]
  },
  {
   "cell_type": "code",
   "execution_count": 80,
   "metadata": {
    "ExecuteTime": {
     "end_time": "2020-07-04T11:39:07.896534Z",
     "start_time": "2020-07-04T11:39:07.864290Z"
    }
   },
   "outputs": [
    {
     "name": "stdout",
     "output_type": "stream",
     "text": [
      "confusion matrix\n",
      " [[110   4]\n",
      " [ 23  41]] \n",
      "\n",
      "classificatio report \n",
      "               precision    recall  f1-score   support\n",
      "\n",
      "           0       0.83      0.96      0.89       114\n",
      "           1       0.91      0.64      0.75        64\n",
      "\n",
      "    accuracy                           0.85       178\n",
      "   macro avg       0.87      0.80      0.82       178\n",
      "weighted avg       0.86      0.85      0.84       178\n",
      "\n"
     ]
    }
   ],
   "source": [
    "y_pred = grid.predict(x_test)\n",
    "metricsss(y_test, y_pred)"
   ]
  },
  {
   "cell_type": "markdown",
   "metadata": {},
   "source": [
    "* Still after the parameter tunning values doesnot change that much but at some values are worst now than it was previous so it's , I think I should go for more parameters because I am using 2-3 parameters only so it might will help to do more parameter tuning "
   ]
  },
  {
   "cell_type": "markdown",
   "metadata": {},
   "source": [
    "### RandomForest Based Classification"
   ]
  },
  {
   "cell_type": "code",
   "execution_count": 81,
   "metadata": {
    "ExecuteTime": {
     "end_time": "2020-07-04T11:42:36.036246Z",
     "start_time": "2020-07-04T11:42:36.032423Z"
    }
   },
   "outputs": [],
   "source": [
    "from sklearn.ensemble import RandomForestClassifier"
   ]
  },
  {
   "cell_type": "code",
   "execution_count": 82,
   "metadata": {
    "ExecuteTime": {
     "end_time": "2020-07-04T11:43:24.359930Z",
     "start_time": "2020-07-04T11:43:24.093213Z"
    }
   },
   "outputs": [],
   "source": [
    "clf = RandomForestClassifier()\n",
    "clf.fit(x_train, y_train)\n",
    "y_pred = clf.predict(x_test)"
   ]
  },
  {
   "cell_type": "code",
   "execution_count": 83,
   "metadata": {
    "ExecuteTime": {
     "end_time": "2020-07-04T11:43:36.416154Z",
     "start_time": "2020-07-04T11:43:36.400504Z"
    }
   },
   "outputs": [
    {
     "name": "stdout",
     "output_type": "stream",
     "text": [
      "confusion matrix\n",
      " [[104  10]\n",
      " [ 13  51]] \n",
      "\n",
      "classificatio report \n",
      "               precision    recall  f1-score   support\n",
      "\n",
      "           0       0.89      0.91      0.90       114\n",
      "           1       0.84      0.80      0.82        64\n",
      "\n",
      "    accuracy                           0.87       178\n",
      "   macro avg       0.86      0.85      0.86       178\n",
      "weighted avg       0.87      0.87      0.87       178\n",
      "\n"
     ]
    }
   ],
   "source": [
    "metricsss(y_test, y_pred)"
   ]
  },
  {
   "cell_type": "markdown",
   "metadata": {},
   "source": [
    "* If you compare this results with DT results, you will know now th result is better.\n",
    "* Random Forest uses multiple trees and then aggregate the results depending on the situation [MAX, VOTE or any other type of aggregation]"
   ]
  },
  {
   "cell_type": "markdown",
   "metadata": {},
   "source": [
    "## let's do some parameter tuning .. vroooommmmm.... ;p"
   ]
  },
  {
   "cell_type": "code",
   "execution_count": 99,
   "metadata": {
    "ExecuteTime": {
     "end_time": "2020-07-04T12:29:50.463987Z",
     "start_time": "2020-07-04T12:29:50.458245Z"
    }
   },
   "outputs": [],
   "source": [
    "param_grid = {\n",
    "    \"n_estimators\": [20,50,100,150],\n",
    "    \"max_depth\": [3, 5,6,7,8 ,10],\n",
    "    \"max_features\":[1, 2, 3, 4, 5, 6, 8],\n",
    "    \"min_samples_leaf\":[1,2,3]\n",
    "}"
   ]
  },
  {
   "cell_type": "code",
   "execution_count": 100,
   "metadata": {
    "ExecuteTime": {
     "end_time": "2020-07-04T12:29:51.013745Z",
     "start_time": "2020-07-04T12:29:51.007719Z"
    }
   },
   "outputs": [],
   "source": [
    "grid = GridSearchCV(RandomForestClassifier(), param_grid, cv=3) \n"
   ]
  },
  {
   "cell_type": "code",
   "execution_count": 101,
   "metadata": {
    "ExecuteTime": {
     "end_time": "2020-07-04T12:35:24.786861Z",
     "start_time": "2020-07-04T12:29:51.393441Z"
    }
   },
   "outputs": [
    {
     "data": {
      "text/plain": [
       "GridSearchCV(cv=3, estimator=RandomForestClassifier(),\n",
       "             param_grid={'max_depth': [3, 5, 6, 7, 8, 10],\n",
       "                         'max_features': [1, 2, 3, 4, 5, 6, 8],\n",
       "                         'min_samples_leaf': [1, 2, 3],\n",
       "                         'n_estimators': [20, 50, 100, 150],\n",
       "                         'random_state': [500]})"
      ]
     },
     "execution_count": 101,
     "metadata": {},
     "output_type": "execute_result"
    }
   ],
   "source": [
    "grid.fit(x_train, y_train)\n"
   ]
  },
  {
   "cell_type": "code",
   "execution_count": 102,
   "metadata": {
    "ExecuteTime": {
     "end_time": "2020-07-04T12:35:24.854224Z",
     "start_time": "2020-07-04T12:35:24.793284Z"
    }
   },
   "outputs": [],
   "source": [
    "y_pred = grid.predict(x_test)"
   ]
  },
  {
   "cell_type": "code",
   "execution_count": 103,
   "metadata": {
    "ExecuteTime": {
     "end_time": "2020-07-04T12:35:24.885637Z",
     "start_time": "2020-07-04T12:35:24.861991Z"
    }
   },
   "outputs": [
    {
     "name": "stdout",
     "output_type": "stream",
     "text": [
      "confusion matrix\n",
      " [[109   5]\n",
      " [ 19  45]] \n",
      "\n",
      "classificatio report \n",
      "               precision    recall  f1-score   support\n",
      "\n",
      "           0       0.85      0.96      0.90       114\n",
      "           1       0.90      0.70      0.79        64\n",
      "\n",
      "    accuracy                           0.87       178\n",
      "   macro avg       0.88      0.83      0.85       178\n",
      "weighted avg       0.87      0.87      0.86       178\n",
      "\n"
     ]
    }
   ],
   "source": [
    "metricsss(y_test, y_pred)"
   ]
  },
  {
   "cell_type": "markdown",
   "metadata": {
    "ExecuteTime": {
     "end_time": "2020-07-04T11:59:14.133767Z",
     "start_time": "2020-07-04T11:59:14.127970Z"
    }
   },
   "source": [
    "* I think because of random_state it is showing less Recall and F1_score.\n",
    "* So this result don't look that good but as it took 10 mins for me to get complete I will not update it again ;("
   ]
  },
  {
   "cell_type": "markdown",
   "metadata": {},
   "source": [
    "## Gradient Descent Classification"
   ]
  },
  {
   "cell_type": "code",
   "execution_count": 122,
   "metadata": {
    "ExecuteTime": {
     "end_time": "2020-07-04T12:42:28.663970Z",
     "start_time": "2020-07-04T12:42:28.657926Z"
    }
   },
   "outputs": [],
   "source": [
    "from sklearn.ensemble import GradientBoostingClassifier\n",
    "gbc = GradientBoostingClassifier(n_estimators=100, max_depth=12)"
   ]
  },
  {
   "cell_type": "code",
   "execution_count": 123,
   "metadata": {
    "ExecuteTime": {
     "end_time": "2020-07-04T12:42:30.090380Z",
     "start_time": "2020-07-04T12:42:28.962258Z"
    }
   },
   "outputs": [
    {
     "name": "stdout",
     "output_type": "stream",
     "text": [
      "confusion matrix\n",
      " [[103  11]\n",
      " [ 11  53]] \n",
      "\n",
      "classificatio report \n",
      "               precision    recall  f1-score   support\n",
      "\n",
      "           0       0.90      0.90      0.90       114\n",
      "           1       0.83      0.83      0.83        64\n",
      "\n",
      "    accuracy                           0.88       178\n",
      "   macro avg       0.87      0.87      0.87       178\n",
      "weighted avg       0.88      0.88      0.88       178\n",
      "\n"
     ]
    }
   ],
   "source": [
    "gbc.fit(x_train, y_train)\n",
    "y_pred = gbc.predict(x_test)\n",
    "metricsss(y_test, y_pred)"
   ]
  },
  {
   "cell_type": "code",
   "execution_count": 126,
   "metadata": {
    "ExecuteTime": {
     "end_time": "2020-07-04T12:44:36.304687Z",
     "start_time": "2020-07-04T12:44:36.298099Z"
    }
   },
   "outputs": [],
   "source": [
    "param_grid = {\n",
    "    \"n_estimators\": [20,50,100,150],\n",
    "    \"max_depth\": [8 ,10,11,12,14,15,19,20,22],\n",
    "    \"max_features\":[1, 2, 3, 4, 5, 6, 8],\n",
    "    \"min_samples_leaf\":[1,2,3]\n",
    "    \n",
    "}"
   ]
  },
  {
   "cell_type": "code",
   "execution_count": 127,
   "metadata": {
    "ExecuteTime": {
     "end_time": "2020-07-04T12:44:38.136914Z",
     "start_time": "2020-07-04T12:44:36.993300Z"
    }
   },
   "outputs": [
    {
     "name": "stdout",
     "output_type": "stream",
     "text": [
      "confusion matrix\n",
      " [[104  10]\n",
      " [ 12  52]] \n",
      "\n",
      "classificatio report \n",
      "               precision    recall  f1-score   support\n",
      "\n",
      "           0       0.90      0.91      0.90       114\n",
      "           1       0.84      0.81      0.83        64\n",
      "\n",
      "    accuracy                           0.88       178\n",
      "   macro avg       0.87      0.86      0.86       178\n",
      "weighted avg       0.88      0.88      0.88       178\n",
      "\n"
     ]
    }
   ],
   "source": [
    "grid = GridSearchCV(GradientBoostingClassifier(), param_grid, cv=3) \n",
    "gbc.fit(x_train, y_train)\n",
    "y_pred = gbc.predict(x_test)\n",
    "metricsss(y_test, y_pred)"
   ]
  },
  {
   "cell_type": "markdown",
   "metadata": {},
   "source": [
    "* Now after changing some parameters and adding some values we are able to get accuracy of 0.88 and    \n",
    "           precision    recall  f1-score   support\n",
    "           0       0.90      0.91      0.90       114\n",
    "           1       0.84      0.81      0.83        64\n",
    "           \n",
    "* from previous result this may be better result we got."
   ]
  },
  {
   "cell_type": "markdown",
   "metadata": {},
   "source": [
    "## XGBoost"
   ]
  },
  {
   "cell_type": "code",
   "execution_count": 128,
   "metadata": {
    "ExecuteTime": {
     "end_time": "2020-07-04T12:47:48.892680Z",
     "start_time": "2020-07-04T12:47:48.844759Z"
    }
   },
   "outputs": [],
   "source": [
    "import xgboost as xgb \n",
    "clf = xgb.XGBRFClassifier()"
   ]
  },
  {
   "cell_type": "code",
   "execution_count": 129,
   "metadata": {
    "ExecuteTime": {
     "end_time": "2020-07-04T12:48:02.080775Z",
     "start_time": "2020-07-04T12:48:01.895420Z"
    }
   },
   "outputs": [
    {
     "data": {
      "text/plain": [
       "XGBRFClassifier(base_score=0.5, booster='gbtree', colsample_bylevel=1,\n",
       "                colsample_bytree=1, gamma=0, gpu_id=-1, importance_type='gain',\n",
       "                interaction_constraints='', max_delta_step=0, max_depth=6,\n",
       "                min_child_weight=1, missing=nan, monotone_constraints='()',\n",
       "                n_estimators=100, n_jobs=0, num_parallel_tree=100,\n",
       "                objective='binary:logistic', random_state=0, reg_alpha=0,\n",
       "                scale_pos_weight=1, tree_method='exact', validate_parameters=1,\n",
       "                verbosity=None)"
      ]
     },
     "execution_count": 129,
     "metadata": {},
     "output_type": "execute_result"
    }
   ],
   "source": [
    "clf.fit(x_train, y_train)"
   ]
  },
  {
   "cell_type": "code",
   "execution_count": 130,
   "metadata": {
    "ExecuteTime": {
     "end_time": "2020-07-04T12:48:33.972190Z",
     "start_time": "2020-07-04T12:48:33.950367Z"
    }
   },
   "outputs": [
    {
     "name": "stdout",
     "output_type": "stream",
     "text": [
      "confusion matrix\n",
      " [[110   4]\n",
      " [ 18  46]] \n",
      "\n",
      "classificatio report \n",
      "               precision    recall  f1-score   support\n",
      "\n",
      "           0       0.86      0.96      0.91       114\n",
      "           1       0.92      0.72      0.81        64\n",
      "\n",
      "    accuracy                           0.88       178\n",
      "   macro avg       0.89      0.84      0.86       178\n",
      "weighted avg       0.88      0.88      0.87       178\n",
      "\n"
     ]
    }
   ],
   "source": [
    "y_pred = clf.predict(x_test)\n",
    "metricsss(y_test, y_pred)"
   ]
  },
  {
   "cell_type": "code",
   "execution_count": 136,
   "metadata": {
    "ExecuteTime": {
     "end_time": "2020-07-04T13:05:56.021521Z",
     "start_time": "2020-07-04T12:56:35.074065Z"
    }
   },
   "outputs": [
    {
     "name": "stdout",
     "output_type": "stream",
     "text": [
      "confusion matrix\n",
      " [[106   8]\n",
      " [ 13  51]] \n",
      "\n",
      "classificatio report \n",
      "               precision    recall  f1-score   support\n",
      "\n",
      "           0       0.89      0.93      0.91       114\n",
      "           1       0.86      0.80      0.83        64\n",
      "\n",
      "    accuracy                           0.88       178\n",
      "   macro avg       0.88      0.86      0.87       178\n",
      "weighted avg       0.88      0.88      0.88       178\n",
      "\n"
     ]
    }
   ],
   "source": [
    "param_grid = {\n",
    "    \"n_estimators\": [20,50,100,150],\n",
    "    \"max_depth\": [8 ,10,11,12,14,15,19,20,22],\n",
    "    \"random_state\": [10,20,30],\n",
    "    \"colsample_bylevel\": [1,0.9,0.7],\n",
    "    \"colsample_bytree\" : [1,0.9,0.65],\n",
    "    \"subsample\":[1,0.95, 0.9,0.7]\n",
    "    \n",
    "    \n",
    "}\n",
    "grid = GridSearchCV(xgb.XGBClassifier(), param_grid, cv=3)\n",
    "grid.fit(x_train, y_train)\n",
    "y_pred = grid.predict(x_test)\n",
    "metricsss(y_test, y_pred)"
   ]
  },
  {
   "cell_type": "code",
   "execution_count": 137,
   "metadata": {
    "ExecuteTime": {
     "end_time": "2020-07-04T13:17:00.526895Z",
     "start_time": "2020-07-04T13:16:59.233093Z"
    }
   },
   "outputs": [],
   "source": [
    "import lightgbm, catboost"
   ]
  },
  {
   "cell_type": "code",
   "execution_count": 141,
   "metadata": {
    "ExecuteTime": {
     "end_time": "2020-07-04T13:19:30.696148Z",
     "start_time": "2020-07-04T13:19:30.690839Z"
    }
   },
   "outputs": [],
   "source": [
    "lgb = lightgbm.LGBMClassifier()\n",
    "cat = catboost.CatBoostClassifier(n_estimators=100)"
   ]
  },
  {
   "cell_type": "code",
   "execution_count": 142,
   "metadata": {
    "ExecuteTime": {
     "end_time": "2020-07-04T13:19:31.118756Z",
     "start_time": "2020-07-04T13:19:30.925053Z"
    }
   },
   "outputs": [
    {
     "name": "stdout",
     "output_type": "stream",
     "text": [
      "confusion matrix\n",
      " [[105   9]\n",
      " [ 13  51]] \n",
      "\n",
      "classificatio report \n",
      "               precision    recall  f1-score   support\n",
      "\n",
      "           0       0.89      0.92      0.91       114\n",
      "           1       0.85      0.80      0.82        64\n",
      "\n",
      "    accuracy                           0.88       178\n",
      "   macro avg       0.87      0.86      0.86       178\n",
      "weighted avg       0.88      0.88      0.88       178\n",
      "\n"
     ]
    }
   ],
   "source": [
    "lgb.fit(x_train, y_train)\n",
    "y_pred = lgb.predict(x_test)\n",
    "metricsss(y_test, y_pred)"
   ]
  },
  {
   "cell_type": "code",
   "execution_count": 143,
   "metadata": {
    "ExecuteTime": {
     "end_time": "2020-07-04T13:19:31.788608Z",
     "start_time": "2020-07-04T13:19:31.538222Z"
    }
   },
   "outputs": [
    {
     "name": "stdout",
     "output_type": "stream",
     "text": [
      "Learning rate set to 0.073567\n",
      "0:\tlearn: 0.6693612\ttotal: 1.72ms\tremaining: 170ms\n",
      "1:\tlearn: 0.6493859\ttotal: 3.06ms\tremaining: 150ms\n",
      "2:\tlearn: 0.6290900\ttotal: 4.28ms\tremaining: 139ms\n",
      "3:\tlearn: 0.6104354\ttotal: 5.22ms\tremaining: 125ms\n",
      "4:\tlearn: 0.5936370\ttotal: 6.19ms\tremaining: 118ms\n",
      "5:\tlearn: 0.5769224\ttotal: 7.43ms\tremaining: 116ms\n",
      "6:\tlearn: 0.5649483\ttotal: 8.83ms\tremaining: 117ms\n",
      "7:\tlearn: 0.5529848\ttotal: 9.6ms\tremaining: 110ms\n",
      "8:\tlearn: 0.5407434\ttotal: 11.1ms\tremaining: 113ms\n",
      "9:\tlearn: 0.5302091\ttotal: 13.3ms\tremaining: 120ms\n",
      "10:\tlearn: 0.5190914\ttotal: 14.7ms\tremaining: 119ms\n",
      "11:\tlearn: 0.5114576\ttotal: 16ms\tremaining: 117ms\n",
      "12:\tlearn: 0.5034703\ttotal: 17.2ms\tremaining: 115ms\n",
      "13:\tlearn: 0.4958064\ttotal: 20.5ms\tremaining: 126ms\n",
      "14:\tlearn: 0.4890309\ttotal: 21.9ms\tremaining: 124ms\n",
      "15:\tlearn: 0.4833097\ttotal: 22.8ms\tremaining: 120ms\n",
      "16:\tlearn: 0.4773902\ttotal: 24.5ms\tremaining: 119ms\n",
      "17:\tlearn: 0.4723384\ttotal: 25.9ms\tremaining: 118ms\n",
      "18:\tlearn: 0.4676809\ttotal: 27.6ms\tremaining: 118ms\n",
      "19:\tlearn: 0.4637328\ttotal: 28.8ms\tremaining: 115ms\n",
      "20:\tlearn: 0.4599264\ttotal: 30ms\tremaining: 113ms\n",
      "21:\tlearn: 0.4556383\ttotal: 31ms\tremaining: 110ms\n",
      "22:\tlearn: 0.4522788\ttotal: 32.9ms\tremaining: 110ms\n",
      "23:\tlearn: 0.4488272\ttotal: 35.8ms\tremaining: 113ms\n",
      "24:\tlearn: 0.4463908\ttotal: 37.2ms\tremaining: 112ms\n",
      "25:\tlearn: 0.4444007\ttotal: 39ms\tremaining: 111ms\n",
      "26:\tlearn: 0.4418145\ttotal: 40.6ms\tremaining: 110ms\n",
      "27:\tlearn: 0.4390890\ttotal: 42.4ms\tremaining: 109ms\n",
      "28:\tlearn: 0.4379101\ttotal: 43.8ms\tremaining: 107ms\n",
      "29:\tlearn: 0.4353530\ttotal: 45.3ms\tremaining: 106ms\n",
      "30:\tlearn: 0.4338481\ttotal: 47.5ms\tremaining: 106ms\n",
      "31:\tlearn: 0.4317674\ttotal: 48.5ms\tremaining: 103ms\n",
      "32:\tlearn: 0.4297936\ttotal: 50.2ms\tremaining: 102ms\n",
      "33:\tlearn: 0.4278116\ttotal: 51.8ms\tremaining: 101ms\n",
      "34:\tlearn: 0.4264331\ttotal: 53.5ms\tremaining: 99.3ms\n",
      "35:\tlearn: 0.4251344\ttotal: 54.6ms\tremaining: 97ms\n",
      "36:\tlearn: 0.4233234\ttotal: 56ms\tremaining: 95.3ms\n",
      "37:\tlearn: 0.4225260\ttotal: 57.3ms\tremaining: 93.5ms\n",
      "38:\tlearn: 0.4210027\ttotal: 58.4ms\tremaining: 91.3ms\n",
      "39:\tlearn: 0.4198538\ttotal: 59.5ms\tremaining: 89.2ms\n",
      "40:\tlearn: 0.4182149\ttotal: 62.1ms\tremaining: 89.4ms\n",
      "41:\tlearn: 0.4170645\ttotal: 64.1ms\tremaining: 88.5ms\n",
      "42:\tlearn: 0.4153985\ttotal: 65.7ms\tremaining: 87.1ms\n",
      "43:\tlearn: 0.4141926\ttotal: 67.2ms\tremaining: 85.6ms\n",
      "44:\tlearn: 0.4128007\ttotal: 68.9ms\tremaining: 84.2ms\n",
      "45:\tlearn: 0.4114847\ttotal: 70.2ms\tremaining: 82.4ms\n",
      "46:\tlearn: 0.4104877\ttotal: 72.8ms\tremaining: 82.1ms\n",
      "47:\tlearn: 0.4099619\ttotal: 74.2ms\tremaining: 80.4ms\n",
      "48:\tlearn: 0.4086508\ttotal: 75.7ms\tremaining: 78.8ms\n",
      "49:\tlearn: 0.4079529\ttotal: 77ms\tremaining: 77ms\n",
      "50:\tlearn: 0.4072693\ttotal: 78.3ms\tremaining: 75.2ms\n",
      "51:\tlearn: 0.4064882\ttotal: 79.5ms\tremaining: 73.4ms\n",
      "52:\tlearn: 0.4053614\ttotal: 80.4ms\tremaining: 71.3ms\n",
      "53:\tlearn: 0.4042605\ttotal: 81.7ms\tremaining: 69.6ms\n",
      "54:\tlearn: 0.4035675\ttotal: 82.8ms\tremaining: 67.7ms\n",
      "55:\tlearn: 0.4023546\ttotal: 83.8ms\tremaining: 65.8ms\n",
      "56:\tlearn: 0.4016494\ttotal: 84.9ms\tremaining: 64ms\n",
      "57:\tlearn: 0.4009165\ttotal: 86.1ms\tremaining: 62.3ms\n",
      "58:\tlearn: 0.3997833\ttotal: 88.9ms\tremaining: 61.8ms\n",
      "59:\tlearn: 0.3993092\ttotal: 91.6ms\tremaining: 61.1ms\n",
      "60:\tlearn: 0.3985622\ttotal: 93.2ms\tremaining: 59.6ms\n",
      "61:\tlearn: 0.3975207\ttotal: 94.9ms\tremaining: 58.2ms\n",
      "62:\tlearn: 0.3968620\ttotal: 96.1ms\tremaining: 56.5ms\n",
      "63:\tlearn: 0.3960924\ttotal: 97.2ms\tremaining: 54.7ms\n",
      "64:\tlearn: 0.3954364\ttotal: 98.3ms\tremaining: 52.9ms\n",
      "65:\tlearn: 0.3941686\ttotal: 99.4ms\tremaining: 51.2ms\n",
      "66:\tlearn: 0.3934297\ttotal: 107ms\tremaining: 52.7ms\n",
      "67:\tlearn: 0.3931226\ttotal: 109ms\tremaining: 51.1ms\n",
      "68:\tlearn: 0.3926273\ttotal: 111ms\tremaining: 49.7ms\n",
      "69:\tlearn: 0.3922069\ttotal: 112ms\tremaining: 48.1ms\n",
      "70:\tlearn: 0.3916910\ttotal: 113ms\tremaining: 46.3ms\n",
      "71:\tlearn: 0.3905123\ttotal: 115ms\tremaining: 44.6ms\n",
      "72:\tlearn: 0.3902320\ttotal: 120ms\tremaining: 44.4ms\n",
      "73:\tlearn: 0.3894069\ttotal: 122ms\tremaining: 42.8ms\n",
      "74:\tlearn: 0.3883036\ttotal: 124ms\tremaining: 41.2ms\n",
      "75:\tlearn: 0.3878073\ttotal: 125ms\tremaining: 39.6ms\n",
      "76:\tlearn: 0.3872265\ttotal: 127ms\tremaining: 37.9ms\n",
      "77:\tlearn: 0.3869615\ttotal: 128ms\tremaining: 36.1ms\n",
      "78:\tlearn: 0.3862376\ttotal: 130ms\tremaining: 34.4ms\n",
      "79:\tlearn: 0.3857628\ttotal: 135ms\tremaining: 33.8ms\n",
      "80:\tlearn: 0.3850104\ttotal: 137ms\tremaining: 32.2ms\n",
      "81:\tlearn: 0.3845081\ttotal: 139ms\tremaining: 30.5ms\n",
      "82:\tlearn: 0.3844235\ttotal: 140ms\tremaining: 28.8ms\n",
      "83:\tlearn: 0.3836847\ttotal: 142ms\tremaining: 27ms\n",
      "84:\tlearn: 0.3830144\ttotal: 147ms\tremaining: 26ms\n",
      "85:\tlearn: 0.3826222\ttotal: 149ms\tremaining: 24.3ms\n",
      "86:\tlearn: 0.3814944\ttotal: 151ms\tremaining: 22.6ms\n",
      "87:\tlearn: 0.3811558\ttotal: 153ms\tremaining: 20.8ms\n",
      "88:\tlearn: 0.3806116\ttotal: 154ms\tremaining: 19.1ms\n",
      "89:\tlearn: 0.3801937\ttotal: 155ms\tremaining: 17.3ms\n",
      "90:\tlearn: 0.3793180\ttotal: 157ms\tremaining: 15.5ms\n",
      "91:\tlearn: 0.3788389\ttotal: 158ms\tremaining: 13.8ms\n",
      "92:\tlearn: 0.3782135\ttotal: 160ms\tremaining: 12.1ms\n",
      "93:\tlearn: 0.3774310\ttotal: 162ms\tremaining: 10.4ms\n",
      "94:\tlearn: 0.3766639\ttotal: 164ms\tremaining: 8.63ms\n",
      "95:\tlearn: 0.3761062\ttotal: 166ms\tremaining: 6.93ms\n",
      "96:\tlearn: 0.3757910\ttotal: 168ms\tremaining: 5.21ms\n",
      "97:\tlearn: 0.3752266\ttotal: 171ms\tremaining: 3.48ms\n",
      "98:\tlearn: 0.3751156\ttotal: 175ms\tremaining: 1.77ms\n",
      "99:\tlearn: 0.3749784\ttotal: 178ms\tremaining: 0us\n",
      "confusion matrix\n",
      " [[109   5]\n",
      " [ 20  44]] \n",
      "\n",
      "classificatio report \n",
      "               precision    recall  f1-score   support\n",
      "\n",
      "           0       0.84      0.96      0.90       114\n",
      "           1       0.90      0.69      0.78        64\n",
      "\n",
      "    accuracy                           0.86       178\n",
      "   macro avg       0.87      0.82      0.84       178\n",
      "weighted avg       0.86      0.86      0.85       178\n",
      "\n"
     ]
    }
   ],
   "source": [
    "cat.fit(x_train, y_train)\n",
    "y_pred = cat.predict(x_test)\n",
    "metricsss(y_test, y_pred)"
   ]
  },
  {
   "cell_type": "code",
   "execution_count": null,
   "metadata": {},
   "outputs": [],
   "source": []
  }
 ],
 "metadata": {
  "kernelspec": {
   "display_name": "Python 3",
   "language": "python",
   "name": "python3"
  },
  "language_info": {
   "codemirror_mode": {
    "name": "ipython",
    "version": 3
   },
   "file_extension": ".py",
   "mimetype": "text/x-python",
   "name": "python",
   "nbconvert_exporter": "python",
   "pygments_lexer": "ipython3",
   "version": "3.7.7"
  }
 },
 "nbformat": 4,
 "nbformat_minor": 2
}
