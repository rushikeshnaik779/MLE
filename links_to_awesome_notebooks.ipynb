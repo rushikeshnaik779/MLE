{
  "nbformat": 4,
  "nbformat_minor": 0,
  "metadata": {
    "colab": {
      "name": "links to awesome notebooks.ipynb",
      "provenance": [],
      "authorship_tag": "ABX9TyPlT6AU6TGbWklGeM8rzpxi",
      "include_colab_link": true
    },
    "kernelspec": {
      "name": "python3",
      "display_name": "Python 3"
    }
  },
  "cells": [
    {
      "cell_type": "markdown",
      "metadata": {
        "id": "view-in-github",
        "colab_type": "text"
      },
      "source": [
        "<a href=\"https://colab.research.google.com/github/rushikeshnaik779/MLE/blob/master/links_to_awesome_notebooks.ipynb\" target=\"_parent\"><img src=\"https://colab.research.google.com/assets/colab-badge.svg\" alt=\"Open In Colab\"/></a>"
      ]
    },
    {
      "cell_type": "markdown",
      "metadata": {
        "id": "TceGyrf7ERg6"
      },
      "source": [
        "[Roshan sharma's Inferential stats](https://www.kaggle.com/roshansharma/introduction-to-inferential-statistics)"
      ]
    },
    {
      "cell_type": "code",
      "metadata": {
        "id": "vmDOwnzJEOla"
      },
      "source": [
        ""
      ],
      "execution_count": null,
      "outputs": []
    }
  ]
}