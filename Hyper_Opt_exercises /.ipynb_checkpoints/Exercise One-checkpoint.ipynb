{
 "cells": [
  {
   "cell_type": "code",
   "execution_count": 1,
   "metadata": {
    "ExecuteTime": {
     "end_time": "2020-07-12T03:46:21.636476Z",
     "start_time": "2020-07-12T03:46:18.626161Z"
    }
   },
   "outputs": [],
   "source": [
    "import pandas as pd \n",
    "import numpy as np \n",
    "import seaborn as sns\n",
    "import matplotlib.pyplot as plt "
   ]
  },
  {
   "cell_type": "markdown",
   "metadata": {},
   "source": [
    "* hyperopt implements distributed asynchronous algorithm for hyperparameter optimization."
   ]
  },
  {
   "cell_type": "code",
   "execution_count": 11,
   "metadata": {
    "ExecuteTime": {
     "end_time": "2020-07-12T04:37:47.897812Z",
     "start_time": "2020-07-12T04:37:47.707723Z"
    }
   },
   "outputs": [
    {
     "name": "stdout",
     "output_type": "stream",
     "text": [
      "100%|██████████| 50/50 [00:00<00:00, 283.43trial/s, best loss: 0.010255114251073952]\n",
      "best: {'x': 0.10126753799255689}\n",
      "trials:\n",
      "{'state': 2, 'tid': 0, 'spec': None, 'result': {'loss': 1.528805459125367, 'status': 'ok'}, 'misc': {'tid': 0, 'cmd': ('domain_attachment', 'FMinIter_Domain'), 'workdir': None, 'idxs': {'x': [0]}, 'vals': {'x': [-1.2364487288704562]}}, 'exp_key': None, 'owner': None, 'version': 0, 'book_time': datetime.datetime(2020, 7, 12, 4, 37, 47, 720000), 'refresh_time': datetime.datetime(2020, 7, 12, 4, 37, 47, 720000)}\n",
      "\n",
      "\n",
      "{'state': 2, 'tid': 1, 'spec': None, 'result': {'loss': 23.220043333467547, 'status': 'ok'}, 'misc': {'tid': 1, 'cmd': ('domain_attachment', 'FMinIter_Domain'), 'workdir': None, 'idxs': {'x': [1]}, 'vals': {'x': [4.818718017633689]}}, 'exp_key': None, 'owner': None, 'version': 0, 'book_time': datetime.datetime(2020, 7, 12, 4, 37, 47, 722000), 'refresh_time': datetime.datetime(2020, 7, 12, 4, 37, 47, 722000)}\n",
      "\n",
      "\n"
     ]
    }
   ],
   "source": [
    "from hyperopt import fmin, tpe, hp, STATUS_OK, Trials\n",
    "fspace = {\n",
    "    'x': hp.uniform('x', -5, 5)\n",
    "}\n",
    "def f(params):\n",
    "    x = params['x']\n",
    "    val = x**2\n",
    "    return {'loss': val, 'status': STATUS_OK}\n",
    "trials = Trials()\n",
    "best = fmin(fn=f, space=fspace, algo=tpe.suggest, max_evals=50, trials=trials)\n",
    "print('best:', best)\n",
    "print('trials:')\n",
    "for trial in trials.trials[:2]:\n",
    "    print(trial)\n",
    "    print('\\n')"
   ]
  },
  {
   "cell_type": "markdown",
   "metadata": {},
   "source": [
    "## Implementing on IRIS dataset"
   ]
  },
  {
   "cell_type": "code",
   "execution_count": 12,
   "metadata": {
    "ExecuteTime": {
     "end_time": "2020-07-12T04:40:41.008335Z",
     "start_time": "2020-07-12T04:40:40.998845Z"
    }
   },
   "outputs": [],
   "source": [
    "from sklearn.datasets import load_iris\n",
    "data = load_iris()"
   ]
  },
  {
   "cell_type": "code",
   "execution_count": 15,
   "metadata": {
    "ExecuteTime": {
     "end_time": "2020-07-12T04:41:54.956937Z",
     "start_time": "2020-07-12T04:41:54.950978Z"
    }
   },
   "outputs": [
    {
     "name": "stdout",
     "output_type": "stream",
     "text": [
      "Feature Names: ['sepal length (cm)', 'sepal width (cm)', 'petal length (cm)', 'petal width (cm)']\n",
      "Target Names: ['setosa' 'versicolor' 'virginica']\n",
      "Description Names: .. _iris_dataset:\n",
      "\n",
      "Iris plants dataset\n",
      "--------------------\n",
      "\n",
      "**Data Set Characteristics:**\n",
      "\n",
      "    :Number of Instances: 150 (50 in each of three classes)\n",
      "    :Number of Attributes: 4 numeric, predictive attributes and the class\n",
      "    :Attribute Information:\n",
      "        - sepal length in cm\n",
      "        - sepal width in cm\n",
      "        - petal length in cm\n",
      "        - petal width in cm\n",
      "        - class:\n",
      "                - Iris-Setosa\n",
      "                - Iris-Versicolour\n",
      "                - Iris-Virginica\n",
      "                \n",
      "    :Summary Statistics:\n",
      "\n",
      "    ============== ==== ==== ======= ===== ====================\n",
      "                    Min  Max   Mean    SD   Class Correlation\n",
      "    ============== ==== ==== ======= ===== ====================\n",
      "    sepal length:   4.3  7.9   5.84   0.83    0.7826\n",
      "    sepal width:    2.0  4.4   3.05   0.43   -0.4194\n",
      "    petal length:   1.0  6.9   3.76   1.76    0.9490  (high!)\n",
      "    petal width:    0.1  2.5   1.20   0.76    0.9565  (high!)\n",
      "    ============== ==== ==== ======= ===== ====================\n",
      "\n",
      "    :Missing Attribute Values: None\n",
      "    :Class Distribution: 33.3% for each of 3 classes.\n",
      "    :Creator: R.A. Fisher\n",
      "    :Donor: Michael Marshall (MARSHALL%PLU@io.arc.nasa.gov)\n",
      "    :Date: July, 1988\n",
      "\n",
      "The famous Iris database, first used by Sir R.A. Fisher. The dataset is taken\n",
      "from Fisher's paper. Note that it's the same as in R, but not as in the UCI\n",
      "Machine Learning Repository, which has two wrong data points.\n",
      "\n",
      "This is perhaps the best known database to be found in the\n",
      "pattern recognition literature.  Fisher's paper is a classic in the field and\n",
      "is referenced frequently to this day.  (See Duda & Hart, for example.)  The\n",
      "data set contains 3 classes of 50 instances each, where each class refers to a\n",
      "type of iris plant.  One class is linearly separable from the other 2; the\n",
      "latter are NOT linearly separable from each other.\n",
      "\n",
      ".. topic:: References\n",
      "\n",
      "   - Fisher, R.A. \"The use of multiple measurements in taxonomic problems\"\n",
      "     Annual Eugenics, 7, Part II, 179-188 (1936); also in \"Contributions to\n",
      "     Mathematical Statistics\" (John Wiley, NY, 1950).\n",
      "   - Duda, R.O., & Hart, P.E. (1973) Pattern Classification and Scene Analysis.\n",
      "     (Q327.D83) John Wiley & Sons.  ISBN 0-471-22361-1.  See page 218.\n",
      "   - Dasarathy, B.V. (1980) \"Nosing Around the Neighborhood: A New System\n",
      "     Structure and Classification Rule for Recognition in Partially Exposed\n",
      "     Environments\".  IEEE Transactions on Pattern Analysis and Machine\n",
      "     Intelligence, Vol. PAMI-2, No. 1, 67-71.\n",
      "   - Gates, G.W. (1972) \"The Reduced Nearest Neighbor Rule\".  IEEE Transactions\n",
      "     on Information Theory, May 1972, 431-433.\n",
      "   - See also: 1988 MLC Proceedings, 54-64.  Cheeseman et al\"s AUTOCLASS II\n",
      "     conceptual clustering system finds 3 classes in the data.\n",
      "   - Many, many more ...\n"
     ]
    }
   ],
   "source": [
    "print('Feature Names:', data.feature_names)\n",
    "print('Target Names:', data.target_names)\n",
    "print('Description Names:', data.DESCR)"
   ]
  },
  {
   "cell_type": "code",
   "execution_count": 16,
   "metadata": {
    "ExecuteTime": {
     "end_time": "2020-07-12T04:42:29.376781Z",
     "start_time": "2020-07-12T04:42:28.581586Z"
    }
   },
   "outputs": [
    {
     "name": "stdout",
     "output_type": "stream",
     "text": [
      "   sepal_length  sepal_width  petal_length  petal_width species\n",
      "0           5.1          3.5           1.4          0.2  setosa\n",
      "1           4.9          3.0           1.4          0.2  setosa\n",
      "2           4.7          3.2           1.3          0.2  setosa\n",
      "3           4.6          3.1           1.5          0.2  setosa\n",
      "4           5.0          3.6           1.4          0.2  setosa\n",
      "  species   measurement  value\n",
      "0  setosa  sepal_length    5.1\n",
      "1  setosa  sepal_length    4.9\n",
      "2  setosa  sepal_length    4.7\n",
      "3  setosa  sepal_length    4.6\n",
      "4  setosa  sepal_length    5.0\n"
     ]
    },
    {
     "data": {
      "text/plain": [
       "<matplotlib.axes._subplots.AxesSubplot at 0x125a7fbd0>"
      ]
     },
     "execution_count": 16,
     "metadata": {},
     "output_type": "execute_result"
    },
    {
     "data": {
      "image/png": "[encoded data removed]",
      "text/plain": [
       "<Figure size 1080x720 with 1 Axes>"
      ]
     },
     "metadata": {},
     "output_type": "display_data"
    }
   ],
   "source": [
    "import seaborn as sns\n",
    "sns.set(style=\"whitegrid\", palette=\"husl\")\n",
    "iris = sns.load_dataset(\"iris\")\n",
    "print(iris.head())\n",
    "iris = pd.melt(iris, \"species\", var_name=\"measurement\")\n",
    "print(iris.head())\n",
    "f, ax = plt.subplots(1, figsize=(15,10))\n",
    "sns.stripplot(x=\"measurement\", y=\"value\", hue=\"species\", data=iris, jitter=True, edgecolor=\"white\", ax=ax)"
   ]
  },
  {
   "cell_type": "markdown",
   "metadata": {},
   "source": [
    "## K-Nearest Neighbors\n"
   ]
  },
  {
   "cell_type": "code",
   "execution_count": 18,
   "metadata": {
    "ExecuteTime": {
     "end_time": "2020-07-12T04:48:14.360204Z",
     "start_time": "2020-07-12T04:48:14.355336Z"
    }
   },
   "outputs": [],
   "source": [
    "from hyperopt import fmin, tpe, hp, STATUS_OK, Trials\n",
    "from sklearn.neighbors import KNeighborsClassifier\n",
    "from sklearn.model_selection import cross_val_score"
   ]
  },
  {
   "cell_type": "code",
   "execution_count": 23,
   "metadata": {
    "ExecuteTime": {
     "end_time": "2020-07-12T04:53:30.046356Z",
     "start_time": "2020-07-12T04:53:30.041365Z"
    }
   },
   "outputs": [],
   "source": [
    "X = data.data\n",
    "y = data.target"
   ]
  },
  {
   "cell_type": "code",
   "execution_count": 24,
   "metadata": {
    "ExecuteTime": {
     "end_time": "2020-07-12T04:53:30.702093Z",
     "start_time": "2020-07-12T04:53:30.695491Z"
    }
   },
   "outputs": [],
   "source": [
    "def hyperopt_train_test(params):\n",
    "    clf = KNeighborsClassifier(**params)\n",
    "    return cross_val_score(clf, X, y).mean()\n"
   ]
  },
  {
   "cell_type": "code",
   "execution_count": 28,
   "metadata": {
    "ExecuteTime": {
     "end_time": "2020-07-12T04:53:44.331601Z",
     "start_time": "2020-07-12T04:53:44.325929Z"
    }
   },
   "outputs": [],
   "source": [
    "space4knn = {\n",
    "    'n_neighbors':hp.choice('n_neighbors', range(1, 100))\n",
    "}"
   ]
  },
  {
   "cell_type": "code",
   "execution_count": 29,
   "metadata": {
    "ExecuteTime": {
     "end_time": "2020-07-12T04:53:44.587750Z",
     "start_time": "2020-07-12T04:53:44.581084Z"
    }
   },
   "outputs": [],
   "source": [
    "def f(params):\n",
    "    acc = hyperopt_train_test(params)\n",
    "    return {'loss': -acc, 'status':STATUS_OK }\n",
    "\n",
    "    "
   ]
  },
  {
   "cell_type": "code",
   "execution_count": 30,
   "metadata": {
    "ExecuteTime": {
     "end_time": "2020-07-12T04:53:47.571270Z",
     "start_time": "2020-07-12T04:53:44.891938Z"
    }
   },
   "outputs": [
    {
     "name": "stdout",
     "output_type": "stream",
     "text": [
      "100%|██████████| 100/100 [00:02<00:00, 37.94trial/s, best loss: -0.9800000000000001]\n",
      "best:\n",
      "{'n_neighbors': 9}\n"
     ]
    }
   ],
   "source": [
    "trial = Trials()\n",
    "best = fmin(f, space4knn, algo=tpe.suggest, max_evals=100)\n",
    "print('best:')\n",
    "print(best)"
   ]
  },
  {
   "cell_type": "code",
   "execution_count": 35,
   "metadata": {
    "ExecuteTime": {
     "end_time": "2020-07-12T05:03:00.221437Z",
     "start_time": "2020-07-12T05:03:00.216151Z"
    }
   },
   "outputs": [],
   "source": [
    "from sklearn.datasets import load_digits\n",
    "from sklearn.naive_bayes import BernoulliNB\n",
    "from sklearn.tree import DecisionTreeClassifier\n",
    "from sklearn.svm import SVC\n",
    "\n"
   ]
  },
  {
   "cell_type": "code",
   "execution_count": 38,
   "metadata": {
    "ExecuteTime": {
     "end_time": "2020-07-12T05:13:20.156669Z",
     "start_time": "2020-07-12T05:03:52.032788Z"
    }
   },
   "outputs": [
    {
     "name": "stdout",
     "output_type": "stream",
     "text": [
      "(1797, 64) (1797,)\n",
      "new best:                                               \n",
      "0.9476973073351903                                                 \n",
      "using                                                              \n",
      "svm                                                                \n",
      "new best:                                                                          \n",
      "0.9660646858557721                                                                 \n",
      "using                                                                              \n",
      "knn                                                                                \n",
      "iters:                                                                              \n",
      "50                                                                                  \n",
      ", acc:                                                                              \n",
      "0.9532667904673475                                                                  \n",
      "using                                                                               \n",
      "{'n_neighbors': 17, 'type': 'knn'}                                                  \n",
      "new best:                                                                           \n",
      "0.9671711544413494                                                                  \n",
      "using                                                                               \n",
      "knn                                                                                 \n",
      "iters:                                                                              \n",
      "100                                                                                 \n",
      ", acc:                                                                              \n",
      "0.8230609718353451                                                                  \n",
      "using                                                                               \n",
      "{'alpha': 1.091322257639657, 'type': 'naive_bayes'}                                 \n",
      "iters:                                                                               \n",
      "150                                                                                  \n",
      ", acc:                                                                               \n",
      "0.9671711544413494                                                                   \n",
      "using                                                                                \n",
      "{'n_neighbors': 2, 'type': 'knn'}                                                    \n",
      "iters:                                                                               \n",
      "200                                                                                  \n",
      ", acc:                                                                               \n",
      "0.9343454038997215                                                                   \n",
      "using                                                                                \n",
      "{'n_neighbors': 36, 'type': 'knn'}                                                   \n",
      "iters:                                                                               \n",
      "250                                                                                  \n",
      ", acc:                                                                               \n",
      "0.9282203652120087                                                                   \n",
      "using                                                                                \n",
      "{'n_neighbors': 48, 'type': 'knn'}                                                   \n",
      "iters:                                                                               \n",
      "300                                                                                  \n",
      ", acc:                                                                               \n",
      "0.9543825441039926                                                                   \n",
      "using                                                                                \n",
      "{'n_neighbors': 15, 'type': 'knn'}                                                   \n",
      "iters:                                                                               \n",
      "350                                                                                  \n",
      ", acc:                                                                               \n",
      "0.8230609718353451                                                                   \n",
      "using                                                                                \n",
      "{'alpha': 0.21627991687027603, 'type': 'naive_bayes'}                                \n",
      "iters:                                                                               \n",
      "400                                                                                  \n",
      ", acc:                                                                               \n",
      "0.9493748065614362                                                                   \n",
      "using                                                                                \n",
      "{'n_neighbors': 18, 'type': 'knn'}                                                   \n",
      "iters:                                                                               \n",
      "450                                                                                  \n",
      ", acc:                                                                               \n",
      "0.9304503249767875                                                                   \n",
      "using                                                                                \n",
      "{'n_neighbors': 42, 'type': 'knn'}                                                   \n",
      "iters:                                                                               \n",
      "500                                                                                  \n",
      ", acc:                                                                               \n",
      "0.9298916744042092                                                                   \n",
      "using                                                                                \n",
      "{'n_neighbors': 44, 'type': 'knn'}                                                   \n",
      "iters:                                                                               \n",
      "550                                                                                  \n",
      ", acc:                                                                               \n",
      "0.9566109563602601                                                                   \n",
      "using                                                                                \n",
      "{'n_neighbors': 9, 'type': 'knn'}                                                    \n",
      "iters:                                                                               \n",
      "600                                                                                  \n",
      ", acc:                                                                               \n",
      "0.9410275456515012                                                                   \n",
      "using                                                                                \n",
      "{'n_neighbors': 29, 'type': 'knn'}                                                   \n",
      "iters:                                                                               \n",
      "650                                                                                  \n",
      ", acc:                                                                               \n",
      "0                                                                                    \n",
      "using                                                                                \n",
      "{'criterion': 'gini', 'max_depth': 12, 'max_features': 4, 'n_estimators': 3, 'normalize': 1, 'scale': 1, 'type': 'randomforest'}\n",
      "iters:                                                                               \n",
      "700                                                                                  \n",
      ", acc:                                                                               \n",
      "0.10128133704735376                                                                  \n",
      "using                                                                                \n"
     ]
    },
    {
     "name": "stdout",
     "output_type": "stream",
     "text": [
      "{'C': 4.236907323137155, 'gamma': 8.253757467234657, 'kernel': 'rbf', 'type': 'svm'} \n",
      "iters:                                                                               \n",
      "750                                                                                  \n",
      ", acc:                                                                               \n",
      "0.9410275456515012                                                                   \n",
      "using                                                                                \n",
      "{'n_neighbors': 29, 'type': 'knn'}                                                   \n",
      "iters:                                                                               \n",
      "800                                                                                  \n",
      ", acc:                                                                               \n",
      "0.9282203652120087                                                                   \n",
      "using                                                                                \n",
      "{'n_neighbors': 48, 'type': 'knn'}                                                   \n",
      "iters:                                                                               \n",
      "850                                                                                  \n",
      ", acc:                                                                               \n",
      "0.10239554317548746                                                                  \n",
      "using                                                                                \n",
      "{'C': 1.7672062150625734, 'gamma': 5.722925345673157, 'kernel': 'rbf', 'type': 'svm'}\n",
      "iters:                                                                               \n",
      "900                                                                                  \n",
      ", acc:                                                                               \n",
      "0.9554967502321263                                                                   \n",
      "using                                                                                \n",
      "{'n_neighbors': 13, 'type': 'knn'}                                                   \n",
      "iters:                                                                               \n",
      "950                                                                                  \n",
      ", acc:                                                                               \n",
      "0.9488192510058806                                                                   \n",
      "using                                                                                \n",
      "{'n_neighbors': 21, 'type': 'knn'}                                                   \n",
      "iters:                                                                               \n",
      "1000                                                                                 \n",
      ", acc:                                                                               \n",
      "0.9415784586815228                                                                   \n",
      "using                                                                                \n",
      "{'n_neighbors': 32, 'type': 'knn'}                                                   \n",
      "iters:                                                                                \n",
      "1050                                                                                  \n",
      ", acc:                                                                                \n",
      "0.9554967502321263                                                                    \n",
      "using                                                                                 \n",
      "{'n_neighbors': 13, 'type': 'knn'}                                                    \n",
      "iters:                                                                                \n",
      "1100                                                                                  \n",
      ", acc:                                                                                \n",
      "0.9543840916125038                                                                    \n",
      "using                                                                                 \n",
      "{'n_neighbors': 16, 'type': 'knn'}                                                    \n",
      "iters:                                                                                \n",
      "1150                                                                                  \n",
      ", acc:                                                                                \n",
      "0.8241736304549674                                                                    \n",
      "using                                                                                 \n",
      "{'alpha': 0.9910783084346169, 'type': 'naive_bayes'}                                  \n",
      "iters:                                                                                \n",
      "1200                                                                                  \n",
      ", acc:                                                                                \n",
      "0.9304503249767875                                                                    \n",
      "using                                                                                 \n",
      "{'n_neighbors': 42, 'type': 'knn'}                                                    \n",
      "iters:                                                                                \n",
      "1250                                                                                  \n",
      ", acc:                                                                                \n",
      "0                                                                                     \n",
      "using                                                                                 \n",
      "{'criterion': 'entropy', 'max_depth': 15, 'max_features': 2, 'n_estimators': 7, 'normalize': 0, 'scale': 0, 'type': 'randomforest'}\n",
      "iters:                                                                                \n",
      "1300                                                                                  \n",
      ", acc:                                                                                \n",
      "0.9671711544413494                                                                    \n",
      "using                                                                                 \n",
      "{'n_neighbors': 2, 'type': 'knn'}                                                     \n",
      "iters:                                                                                \n",
      "1350                                                                                  \n",
      ", acc:                                                                                \n",
      "0.950484370164036                                                                     \n",
      "using                                                                                 \n",
      "{'n_neighbors': 19, 'type': 'knn'}                                                    \n",
      "iters:                                                                                \n",
      "1400                                                                                  \n",
      ", acc:                                                                                \n",
      "0.9543840916125038                                                                    \n",
      "using                                                                                 \n",
      "{'n_neighbors': 16, 'type': 'knn'}                                                    \n",
      "iters:                                                                                \n",
      "1450                                                                                  \n",
      ", acc:                                                                                \n",
      "0                                                                                     \n",
      "using                                                                                 \n",
      "{'criterion': 'gini', 'max_depth': 7, 'max_features': 1, 'n_estimators': 5, 'normalize': 1, 'scale': 1, 'type': 'randomforest'}\n",
      "iters:                                                                                \n",
      "1500                                                                                  \n"
     ]
    },
    {
     "name": "stdout",
     "output_type": "stream",
     "text": [
      ", acc:                                                                                \n",
      "0.9332311977715877                                                                    \n",
      "using                                                                                 \n",
      "{'n_neighbors': 38, 'type': 'knn'}                                                    \n",
      "100%|██████████| 1500/1500 [09:27<00:00,  2.64trial/s, best loss: -0.9671711544413494]\n",
      "best:\n",
      "{'classifier_type': 3, 'knn_n_neighbors': 1}\n"
     ]
    }
   ],
   "source": [
    "digits = datasets.load_digits()\n",
    "X = digits.data\n",
    "y = digits.target\n",
    "print(X.shape, y.shape)\n",
    "def hyperopt_train_test(params):\n",
    "    t = params['type']\n",
    "    del params['type']\n",
    "    if t == 'naive_bayes':\n",
    "        clf = BernoulliNB(**params)\n",
    "    elif t == 'svm':\n",
    "        clf = SVC(**params)\n",
    "    elif t == 'dtree':\n",
    "        clf = DecisionTreeClassifier(**params)\n",
    "    elif t == 'knn':\n",
    "        clf = KNeighborsClassifier(**params)\n",
    "    else:\n",
    "        return 0\n",
    "    return cross_val_score(clf, X, y).mean()\n",
    "space = hp.choice('classifier_type', [\n",
    "    {\n",
    "        'type': 'naive_bayes',\n",
    "        'alpha': hp.uniform('alpha', 0.0, 2.0)\n",
    "    },\n",
    "    {\n",
    "        'type': 'svm',\n",
    "        'C': hp.uniform('C', 0, 10.0),\n",
    "        'kernel': hp.choice('kernel', ['linear', 'rbf']),\n",
    "        'gamma': hp.uniform('gamma', 0, 20.0)\n",
    "    },\n",
    "    {\n",
    "        'type': 'randomforest',\n",
    "        'max_depth': hp.choice('max_depth', range(1,20)),\n",
    "        'max_features': hp.choice('max_features', range(1,5)),\n",
    "        'n_estimators': hp.choice('n_estimators', range(1,20)),\n",
    "        'criterion': hp.choice('criterion', [\"gini\", \"entropy\"]),\n",
    "        'scale': hp.choice('scale', [0, 1]),\n",
    "        'normalize': hp.choice('normalize', [0, 1])\n",
    "    },\n",
    "    {\n",
    "        'type': 'knn',\n",
    "        'n_neighbors': hp.choice('knn_n_neighbors', range(1,50))\n",
    "    }\n",
    "])\n",
    "count = 0\n",
    "best = 0\n",
    "def f(params):\n",
    "    global best, count\n",
    "    count += 1\n",
    "    acc = hyperopt_train_test(params.copy())\n",
    "    if acc > best:\n",
    "        print('new best:', acc, 'using', params['type'])\n",
    "        best = acc\n",
    "    if count % 50 == 0:\n",
    "        print('iters:', count, ', acc:', acc, 'using', params)\n",
    "    return {'loss': -acc, 'status': STATUS_OK}\n",
    "trials = Trials()\n",
    "best = fmin(f, space, algo=tpe.suggest, max_evals=1500, trials=trials)\n",
    "print('best:')\n",
    "print(best)"
   ]
  },
  {
   "cell_type": "code",
   "execution_count": null,
   "metadata": {},
   "outputs": [],
   "source": []
  }
 ],
 "metadata": {
  "kernelspec": {
   "display_name": "Python 3",
   "language": "python",
   "name": "python3"
  },
  "language_info": {
   "codemirror_mode": {
    "name": "ipython",
    "version": 3
   },
   "file_extension": ".py",
   "mimetype": "text/x-python",
   "name": "python",
   "nbconvert_exporter": "python",
   "pygments_lexer": "ipython3",
   "version": "3.7.7"
  }
 },
 "nbformat": 4,
 "nbformat_minor": 2
}
